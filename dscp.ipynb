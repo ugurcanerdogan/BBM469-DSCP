{
 "cells": [
  {
   "cell_type": "code",
   "execution_count": null,
   "metadata": {
    "collapsed": true
   },
   "outputs": [],
   "source": [
    "apikey = 'YOURAPIKEY'\n",
    "secret = 'YOURAPISECRET'\n",
    "!pip install python-binance pandas mplfinance\n",
    "\n",
    "from binance import Client, ThreadedWebsocketManager, ThreadedDepthCacheManager\n",
    "import pandas as pd\n",
    "\n",
    "client = Client(apikey, secret)\n",
    "#  [\n",
    "#   [\n",
    "#     1499040000000,      // Open time\n",
    "#     \"0.01634790\",       // Open\n",
    "#     \"0.80000000\",       // High\n",
    "#     \"0.01575800\",       // Low\n",
    "#     \"0.01577100\",       // Close\n",
    "#     \"148976.11427815\",  // Volume\n",
    "#     1499644799999,      // Close time\n",
    "#     \"2434.19055334\",    // Quote asset volume\n",
    "#     308,                // Number of trades\n",
    "#     \"1756.87402397\",    // Taker buy base asset volume\n",
    "#     \"28.46694368\",      // Taker buy quote asset volume\n",
    "#     \"17928899.62484339\" // Ignore.\n",
    "#   ]\n",
    "# ]\n",
    "historical = client.get_historical_klines('ETHBTC', Client.KLINE_INTERVAL_1DAY, '1 Jan 2011')\n",
    "historical\n",
    "hist_df = pd.DataFrame(historical)\n",
    "\n",
    "hist_df.head()\n",
    "\n",
    "hist_df.columns = ['Open Time', 'Open', 'High', 'Low', 'Close', 'Volume', 'Close Time', 'Quote Asset Volume',\n",
    "                   'Number of Trades', 'TB Base Volume', 'TB Quote Volume', 'Ignore']\n",
    "hist_df.tail()\n",
    "\n",
    "hist_df.shape\n",
    "hist_df.dtypes\n",
    "\n",
    "hist_df['Open Time'] = pd.to_datetime(hist_df['Open Time'] / 1000, unit='s')\n",
    "hist_df['Close Time'] = pd.to_datetime(hist_df['Close Time'] / 1000, unit='s')\n",
    "numeric_columns = ['Open', 'High', 'Low', 'Close', 'Volume', 'Quote Asset Volume', 'TB Base Volume', 'TB Quote Volume']\n",
    "hist_df[numeric_columns] = hist_df[numeric_columns].apply(pd.to_numeric, axis=1)\n",
    "hist_df.tail()\n",
    "hist_df.dtypes\n",
    "hist_df.describe()\n",
    "\n",
    "hist_df.info()\n",
    "\n",
    "import mplfinance as mpf\n",
    "\n",
    "hist_df.set_index('Close Time').tail(100)\n",
    "mpf.plot(hist_df.set_index('Close Time').tail(120),\n",
    "         type='candle', style='charles',\n",
    "         volume=True,\n",
    "         title='ETHBTC Last 120 Days',\n",
    "         mav=(10, 20, 30))"
   ]
  }
 ],
 "metadata": {
  "kernelspec": {
   "display_name": "Python 3",
   "language": "python",
   "name": "python3"
  },
  "language_info": {
   "codemirror_mode": {
    "name": "ipython",
    "version": 2
   },
   "file_extension": ".py",
   "mimetype": "text/x-python",
   "name": "python",
   "nbconvert_exporter": "python",
   "pygments_lexer": "ipython2",
   "version": "2.7.6"
  }
 },
 "nbformat": 4,
 "nbformat_minor": 0
}