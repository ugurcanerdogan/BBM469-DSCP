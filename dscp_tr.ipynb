{
 "cells": [
  {
   "cell_type": "markdown",
   "source": [
    "# BBM 469 : Veri Yoğunluklu Uygulamalar Laboratuvarı\n",
    "## Veri Bilimi Bitirme Projesi\n",
    "### Ay Evreleri Kripto Para Birimlerini etkiler mi, etkilemez mi?\n",
    "#### Ay evrelerinin \"kripto para birimleri\" üzerinde bazı etkilerinin olduğu son zamanlarda sosyal medya gündeminde yer alıyor ancak bununla ilgili bir araştırma yok, sadece bir farkındalık olarak nitelendiriliyor. Bu projedeki amacımız, ayın farklı evrelerinin kripto para birimlerini etkileyip etkilemediğinin istatistiksel olarak araştırılmasıdır.\n",
    "### Uğurcan ERDOĞAN - Alperen Berk IŞILDAR"
   ],
   "metadata": {
    "collapsed": false,
    "pycharm": {
     "name": "#%% md\n"
    }
   }
  },
  {
   "cell_type": "markdown",
   "source": [
    "## İçerik\n",
    "\n",
    "[PROBLEM TANIMI](#problem)\n",
    "[Veri Toplama](#veri_toplama)\n",
    "[Veri Ön İşleme](#veri_on_isleme)\n",
    "[Veri Keşfi](#veri_kesfi)\n",
    "[Özellik Mühendisliği](#ozellik_muhendisligi)\n",
    "[Analiz](#analiz)\n",
    "[Sonuç](#sonuc)\n",
    "[REFERANSLAR](#referanslar)"
   ],
   "metadata": {
    "collapsed": false,
    "pycharm": {
     "name": "#%% md\n"
    }
   }
  },
  {
   "cell_type": "markdown",
   "source": [
    "### PROBLEM TANIMI : <a class=\"anchor\" id=\"problem\"></a>\n",
    "\n",
    "\n",
    "Gann Analizi teknikleri çoğu yatırımcı tarafından kripto ve finansal analizde kullanılmaktadır. Ancak belli bir gruba göre bu analiz tekniğinde çok fazla hurafe ve tutarsız ölçüm yöntemleri bulunmaktadır. Bunlar arasında bir yöntem oldukça dikkat çekicidir. İnsanların davranışlarının ayın hareketlerine ve döngülerine göre değiştiği fikrine dayanan bu analiz türünde belli kurallar vardır ve borsada sonuçlarını görmek mümkündür. Astrolojik temelli bu inanışa göre dolunaydan sonraki günden yeni aya kadar piyasalarda bir artış olur. Aksine, yeni ayın ertesi gününden dolunaya kadar borsada düşüş gözlemlenebilir. Yarım ayların da düzeltme veya tamamlama görevini üstlenebileceğinden bahsedilmektedir.\n",
    "\n",
    "\n",
    "Bu projemizde günümüzün yükselen trendlerinden biri olan kripto borsalarını inceleyeceğiz ve en baskın kripto para olan BTC'de durumun böyle olup olmadığını inceleyeceğiz. 1 BTC'nin dolar karşılığı olan BTCUSDT ticker üzerinde ilerleyeceğimiz bu projede, günlük tarihsel verileri anlamlı hale getireceğiz ve bu anlamlı veride ay döngülerinin bahsedildiği gibi etkili olup olmadığını yorumlayacağız."
   ],
   "metadata": {
    "collapsed": false,
    "pycharm": {
     "name": "#%% md\n"
    }
   }
  },
  {
   "cell_type": "code",
   "execution_count": 1,
   "outputs": [],
   "source": [
    "# Binance borsasında aldığımız API anahtarlarını belirledik.\n",
    "api_anahtari = 'hogz7OSaxUmgkrDDpCAYnbSfujwXdOanXhqDcTjj5H4uaU3Ik8Nf89rjFXRB5h5Q'\n",
    "gizli_anahtar = '6LN48p3vTAI0631S7WUpDrzWoOnDHlMMAaKvar7LA3gqn4zb4x0nB2Hce6uyaCwb'"
   ],
   "metadata": {
    "collapsed": false,
    "pycharm": {
     "name": "#%%\n"
    }
   }
  },
  {
   "cell_type": "code",
   "execution_count": 2,
   "outputs": [
    {
     "name": "stdout",
     "output_type": "stream",
     "text": [
      "Requirement already satisfied: python-binance in c:\\users\\uqi\\anaconda3\\lib\\site-packages (1.0.16)\n",
      "Requirement already satisfied: pandas in c:\\users\\uqi\\anaconda3\\lib\\site-packages (1.4.2)\n",
      "Requirement already satisfied: mplfinance in c:\\users\\uqi\\anaconda3\\lib\\site-packages (0.12.8b9)\n",
      "Requirement already satisfied: openpyxl in c:\\users\\uqi\\anaconda3\\lib\\site-packages (3.0.9)\n",
      "Requirement already satisfied: statsmodels in c:\\users\\uqi\\anaconda3\\lib\\site-packages (0.13.2)\n",
      "Requirement already satisfied: aiohttp in c:\\users\\uqi\\anaconda3\\lib\\site-packages (from python-binance) (3.8.1)\n",
      "Requirement already satisfied: websockets in c:\\users\\uqi\\anaconda3\\lib\\site-packages (from python-binance) (10.3)\n",
      "Requirement already satisfied: ujson in c:\\users\\uqi\\anaconda3\\lib\\site-packages (from python-binance) (5.1.0)\n",
      "Requirement already satisfied: requests in c:\\users\\uqi\\anaconda3\\lib\\site-packages (from python-binance) (2.27.1)\n",
      "Requirement already satisfied: dateparser in c:\\users\\uqi\\anaconda3\\lib\\site-packages (from python-binance) (1.1.1)\n",
      "Requirement already satisfied: six in c:\\users\\uqi\\anaconda3\\lib\\site-packages (from python-binance) (1.16.0)\n",
      "Requirement already satisfied: pytz>=2020.1 in c:\\users\\uqi\\anaconda3\\lib\\site-packages (from pandas) (2021.3)\n",
      "Requirement already satisfied: numpy>=1.18.5 in c:\\users\\uqi\\anaconda3\\lib\\site-packages (from pandas) (1.21.5)\n",
      "Requirement already satisfied: python-dateutil>=2.8.1 in c:\\users\\uqi\\anaconda3\\lib\\site-packages (from pandas) (2.8.2)\n",
      "Requirement already satisfied: matplotlib in c:\\users\\uqi\\anaconda3\\lib\\site-packages (from mplfinance) (3.5.1)\n",
      "Requirement already satisfied: et-xmlfile in c:\\users\\uqi\\anaconda3\\lib\\site-packages (from openpyxl) (1.1.0)\n",
      "Requirement already satisfied: scipy>=1.3 in c:\\users\\uqi\\anaconda3\\lib\\site-packages (from statsmodels) (1.7.3)\n",
      "Requirement already satisfied: patsy>=0.5.2 in c:\\users\\uqi\\anaconda3\\lib\\site-packages (from statsmodels) (0.5.2)\n",
      "Requirement already satisfied: packaging>=21.3 in c:\\users\\uqi\\anaconda3\\lib\\site-packages (from statsmodels) (21.3)\n",
      "Requirement already satisfied: pyparsing!=3.0.5,>=2.0.2 in c:\\users\\uqi\\anaconda3\\lib\\site-packages (from packaging>=21.3->statsmodels) (3.0.4)\n",
      "Requirement already satisfied: frozenlist>=1.1.1 in c:\\users\\uqi\\anaconda3\\lib\\site-packages (from aiohttp->python-binance) (1.3.0)\n",
      "Requirement already satisfied: multidict<7.0,>=4.5 in c:\\users\\uqi\\anaconda3\\lib\\site-packages (from aiohttp->python-binance) (6.0.2)\n",
      "Requirement already satisfied: yarl<2.0,>=1.0 in c:\\users\\uqi\\anaconda3\\lib\\site-packages (from aiohttp->python-binance) (1.7.2)\n",
      "Requirement already satisfied: async-timeout<5.0,>=4.0.0a3 in c:\\users\\uqi\\anaconda3\\lib\\site-packages (from aiohttp->python-binance) (4.0.2)\n",
      "Requirement already satisfied: attrs>=17.3.0 in c:\\users\\uqi\\anaconda3\\lib\\site-packages (from aiohttp->python-binance) (21.4.0)\n",
      "Requirement already satisfied: charset-normalizer<3.0,>=2.0 in c:\\users\\uqi\\anaconda3\\lib\\site-packages (from aiohttp->python-binance) (2.0.4)\n",
      "Requirement already satisfied: aiosignal>=1.1.2 in c:\\users\\uqi\\anaconda3\\lib\\site-packages (from aiohttp->python-binance) (1.2.0)\n",
      "Requirement already satisfied: idna>=2.0 in c:\\users\\uqi\\anaconda3\\lib\\site-packages (from yarl<2.0,>=1.0->aiohttp->python-binance) (3.3)\n",
      "Requirement already satisfied: regex!=2019.02.19,!=2021.8.27,<2022.3.15 in c:\\users\\uqi\\anaconda3\\lib\\site-packages (from dateparser->python-binance) (2022.3.2)\n",
      "Requirement already satisfied: tzlocal in c:\\users\\uqi\\anaconda3\\lib\\site-packages (from dateparser->python-binance) (4.2)\n",
      "Requirement already satisfied: cycler>=0.10 in c:\\users\\uqi\\anaconda3\\lib\\site-packages (from matplotlib->mplfinance) (0.11.0)\n",
      "Requirement already satisfied: kiwisolver>=1.0.1 in c:\\users\\uqi\\anaconda3\\lib\\site-packages (from matplotlib->mplfinance) (1.3.2)\n",
      "Requirement already satisfied: fonttools>=4.22.0 in c:\\users\\uqi\\anaconda3\\lib\\site-packages (from matplotlib->mplfinance) (4.25.0)\n",
      "Requirement already satisfied: pillow>=6.2.0 in c:\\users\\uqi\\anaconda3\\lib\\site-packages (from matplotlib->mplfinance) (9.0.1)\n",
      "Requirement already satisfied: certifi>=2017.4.17 in c:\\users\\uqi\\anaconda3\\lib\\site-packages (from requests->python-binance) (2021.10.8)\n",
      "Requirement already satisfied: urllib3<1.27,>=1.21.1 in c:\\users\\uqi\\anaconda3\\lib\\site-packages (from requests->python-binance) (1.26.9)\n",
      "Requirement already satisfied: pytz-deprecation-shim in c:\\users\\uqi\\anaconda3\\lib\\site-packages (from tzlocal->dateparser->python-binance) (0.1.0.post0)\n",
      "Requirement already satisfied: tzdata in c:\\users\\uqi\\anaconda3\\lib\\site-packages (from tzlocal->dateparser->python-binance) (2022.1)\n"
     ]
    }
   ],
   "source": [
    "# Veri bilimi görevleri için gerekli paketleri indiriyoruz.\n",
    "!pip install python-binance pandas mplfinance openpyxl statsmodels"
   ],
   "metadata": {
    "collapsed": false,
    "pycharm": {
     "name": "#%%\n"
    }
   }
  },
  {
   "cell_type": "code",
   "execution_count": 3,
   "outputs": [],
   "source": [
    "# İndirilen paketleri içe aktarma işlemi.\n",
    "from binance import Client, ThreadedWebsocketManager, ThreadedDepthCacheManager\n",
    "import pandas as pd"
   ],
   "metadata": {
    "collapsed": false,
    "pycharm": {
     "name": "#%%\n"
    }
   }
  },
  {
   "cell_type": "markdown",
   "source": [
    "### 1- Veri Toplama <a class=\"anchor\" id=\"veri_toplama\"></a>\n",
    "Bu adımda, 1 günlük aralıklarla Binance API aracılığıyla BTCUSDT kaydı için geçmiş verileri getirdik. 11 Ocak 2020 ile 19 Aralık 2021 arasındaki 2 yıllık veriler, Ay evreleri için elimizdeki verilerin tam karşılığı olacaktır."
   ],
   "metadata": {
    "collapsed": false,
    "pycharm": {
     "name": "#%% md\n"
    }
   }
  },
  {
   "cell_type": "code",
   "execution_count": 4,
   "outputs": [
    {
     "data": {
      "text/plain": "[[1578700800000,\n  '8198.86000000',\n  '8286.34000000',\n  '8003.16000000',\n  '8020.01000000',\n  '54810.03266700',\n  1578787199999,\n  '445034349.56470204',\n  469131,\n  '27916.12497400',\n  '226716001.44288607',\n  '0'],\n [1578787200000,\n  '8020.01000000',\n  '8197.00000000',\n  '7960.00000000',\n  '8184.98000000',\n  '38131.49433600',\n  1578873599999,\n  '309351920.45885002',\n  350662,\n  '19718.54109600',\n  '159972663.99291870',\n  '0'],\n [1578873600000,\n  '8184.97000000',\n  '8196.00000000',\n  '8055.89000000',\n  '8110.34000000',\n  '31159.75568300',\n  1578959999999,\n  '252656965.35815013',\n  289144,\n  '15215.22650100',\n  '123407351.91807934',\n  '0']]"
     },
     "execution_count": 4,
     "metadata": {},
     "output_type": "execute_result"
    }
   ],
   "source": [
    "istemci = Client(api_anahtari, gizli_anahtar)\n",
    "tarihsel_bilgiler = istemci.get_historical_klines('BTCUSDT', Client.KLINE_INTERVAL_1DAY, '11 Jan 2020', '19 Dec 2021')\n",
    "tarihsel_bilgiler[:3]\n",
    "\n",
    "#  Veri içeriği:\n",
    "#  [\n",
    "#   [\n",
    "#     1499040000000,      // Açılış tarihi\n",
    "#     \"0.01634790\",       // Açılış fiyatı\n",
    "#     \"0.80000000\",       // En yüksek fiyat\n",
    "#     \"0.01575800\",       // En düşük fiyat\n",
    "#     \"0.01577100\",       // Kapanış fiyatı\n",
    "#     \"148976.11427815\",  // İşlem hacmi\n",
    "#     1499644799999,      // Kapanış tarihi\n",
    "#     \"2434.19055334\",    // Teklif varlık hacmi\n",
    "#     308,                // İşlem sayısı\n",
    "#     \"1756.87402397\",    // Alıcı satın alma temel varlık hacmi\n",
    "#     \"28.46694368\",      // Alıcı satın alma teklifi varlık hacmi\n",
    "#     \"17928899.62484339\" // yoksayınız.\n",
    "#   ]\n",
    "# ]"
   ],
   "metadata": {
    "collapsed": false,
    "pycharm": {
     "name": "#%%\n"
    }
   }
  },
  {
   "cell_type": "code",
   "execution_count": 32,
   "outputs": [
    {
     "data": {
      "text/plain": "              0              1              2              3              4   \\\n0  1578700800000  8198.86000000  8286.34000000  8003.16000000  8020.01000000   \n1  1578787200000  8020.01000000  8197.00000000  7960.00000000  8184.98000000   \n2  1578873600000  8184.97000000  8196.00000000  8055.89000000  8110.34000000   \n3  1578960000000  8110.34000000  8880.00000000  8105.54000000  8810.01000000   \n4  1579046400000  8814.64000000  8916.48000000  8564.00000000  8821.41000000   \n\n                5              6                    7       8   \\\n0   54810.03266700  1578787199999   445034349.56470204  469131   \n1   38131.49433600  1578873599999   309351920.45885002  350662   \n2   31159.75568300  1578959999999   252656965.35815013  289144   \n3  120399.12674200  1579046399999  1032735180.86587384  915328   \n4   84816.29760600  1579132799999   743712237.27908164  764048   \n\n               9                   10 11  \n0  27916.12497400  226716001.44288607  0  \n1  19718.54109600  159972663.99291870  0  \n2  15215.22650100  123407351.91807934  0  \n3  62492.09667600  536081638.05418570  0  \n4  42493.55102600  372770745.17929917  0  ",
      "text/html": "<div>\n<style scoped>\n    .dataframe tbody tr th:only-of-type {\n        vertical-align: middle;\n    }\n\n    .dataframe tbody tr th {\n        vertical-align: top;\n    }\n\n    .dataframe thead th {\n        text-align: right;\n    }\n</style>\n<table border=\"1\" class=\"dataframe\">\n  <thead>\n    <tr style=\"text-align: right;\">\n      <th></th>\n      <th>0</th>\n      <th>1</th>\n      <th>2</th>\n      <th>3</th>\n      <th>4</th>\n      <th>5</th>\n      <th>6</th>\n      <th>7</th>\n      <th>8</th>\n      <th>9</th>\n      <th>10</th>\n      <th>11</th>\n    </tr>\n  </thead>\n  <tbody>\n    <tr>\n      <th>0</th>\n      <td>1578700800000</td>\n      <td>8198.86000000</td>\n      <td>8286.34000000</td>\n      <td>8003.16000000</td>\n      <td>8020.01000000</td>\n      <td>54810.03266700</td>\n      <td>1578787199999</td>\n      <td>445034349.56470204</td>\n      <td>469131</td>\n      <td>27916.12497400</td>\n      <td>226716001.44288607</td>\n      <td>0</td>\n    </tr>\n    <tr>\n      <th>1</th>\n      <td>1578787200000</td>\n      <td>8020.01000000</td>\n      <td>8197.00000000</td>\n      <td>7960.00000000</td>\n      <td>8184.98000000</td>\n      <td>38131.49433600</td>\n      <td>1578873599999</td>\n      <td>309351920.45885002</td>\n      <td>350662</td>\n      <td>19718.54109600</td>\n      <td>159972663.99291870</td>\n      <td>0</td>\n    </tr>\n    <tr>\n      <th>2</th>\n      <td>1578873600000</td>\n      <td>8184.97000000</td>\n      <td>8196.00000000</td>\n      <td>8055.89000000</td>\n      <td>8110.34000000</td>\n      <td>31159.75568300</td>\n      <td>1578959999999</td>\n      <td>252656965.35815013</td>\n      <td>289144</td>\n      <td>15215.22650100</td>\n      <td>123407351.91807934</td>\n      <td>0</td>\n    </tr>\n    <tr>\n      <th>3</th>\n      <td>1578960000000</td>\n      <td>8110.34000000</td>\n      <td>8880.00000000</td>\n      <td>8105.54000000</td>\n      <td>8810.01000000</td>\n      <td>120399.12674200</td>\n      <td>1579046399999</td>\n      <td>1032735180.86587384</td>\n      <td>915328</td>\n      <td>62492.09667600</td>\n      <td>536081638.05418570</td>\n      <td>0</td>\n    </tr>\n    <tr>\n      <th>4</th>\n      <td>1579046400000</td>\n      <td>8814.64000000</td>\n      <td>8916.48000000</td>\n      <td>8564.00000000</td>\n      <td>8821.41000000</td>\n      <td>84816.29760600</td>\n      <td>1579132799999</td>\n      <td>743712237.27908164</td>\n      <td>764048</td>\n      <td>42493.55102600</td>\n      <td>372770745.17929917</td>\n      <td>0</td>\n    </tr>\n  </tbody>\n</table>\n</div>"
     },
     "execution_count": 32,
     "metadata": {},
     "output_type": "execute_result"
    }
   ],
   "source": [
    "# Veri çerçevesindeki ham verilerimiz.\n",
    "tarihsel_veri_cercevesi = pd.DataFrame(tarihsel_bilgiler)\n",
    "gosterim_veri_cercevesi = tarihsel_veri_cercevesi.copy(deep=False)\n",
    "gosterim_veri_cercevesi.columns = ['Open Time', 'Open', 'High', 'Low', 'Close', 'Volume', 'Close Time', 'Quote Asset Volume',\n",
    "                   'Number of Trades', 'TB Base Volume', 'TB Quote Volume', 'Ignore']\n",
    "tarihsel_veri_cercevesi.head()"
   ],
   "metadata": {
    "collapsed": false,
    "pycharm": {
     "name": "#%%\n"
    }
   }
  },
  {
   "cell_type": "markdown",
   "source": [
    "Not: Gösterim Veri Çerçevesi'ni, sadece BTC grafiğinin gösteriminde kullanacağız. İlgili çizim fonksiyonunun Türkçe karakter uyumsuzluğu sebebiyle geçici olarak bu çerçeveye ihtiyaç duyduk."
   ],
   "metadata": {
    "collapsed": false,
    "pycharm": {
     "name": "#%% md\n"
    }
   }
  },
  {
   "cell_type": "code",
   "execution_count": 33,
   "outputs": [
    {
     "name": "stdout",
     "output_type": "stream",
     "text": [
      "<class 'pandas.core.frame.DataFrame'>\n",
      "RangeIndex: 48 entries, 0 to 47\n",
      "Data columns (total 3 columns):\n",
      " #   Column                   Non-Null Count  Dtype         \n",
      "---  ------                   --------------  -----         \n",
      " 0   Phase's Next Date        48 non-null     datetime64[ns]\n",
      " 1   Next Phase's First Date  48 non-null     datetime64[ns]\n",
      " 2   Starting Phase Name      48 non-null     object        \n",
      "dtypes: datetime64[ns](2), object(1)\n",
      "memory usage: 1.2+ KB\n"
     ]
    }
   ],
   "source": [
    "# Önceden işlenmiş Ay evreleri tablosunun okunması.\n",
    "evreler_veri_cercevesi = pd.read_excel(io=\"phase_dates.xlsx\")\n",
    "evreler_veri_cercevesi.info()"
   ],
   "metadata": {
    "collapsed": false,
    "pycharm": {
     "name": "#%%\n"
    }
   }
  },
  {
   "cell_type": "markdown",
   "source": [
    "### 2- Veri Ön İşleme <a class=\"anchor\" id=\"veri_on_isleme\"></a>\n",
    "Bu adımda elde ettiğimiz verileri anlamlı ve işlenebilir hale getirdik."
   ],
   "metadata": {
    "collapsed": false,
    "pycharm": {
     "name": "#%% md\n"
    }
   }
  },
  {
   "cell_type": "code",
   "execution_count": 34,
   "outputs": [],
   "source": [
    "# Her özellik için sütun adları.\n",
    "tarihsel_veri_cercevesi.columns = ['Açılış Tarihi', 'Açılış Fiyatı', 'En Yüksek Fiyat', 'En Düşük Fiyat', 'Kapanış Fiyatı', 'İşlem Hacmi', 'Kapanış Tarihi', 'Teklif Varlık Hacmi',\n",
    "                   'İşlem Sayısı', 'ASA Temel Varlık Hacmi', 'ASA Teklifi Varlık Hacmi', 'Yoksayınız']"
   ],
   "metadata": {
    "collapsed": false,
    "pycharm": {
     "name": "#%%\n"
    }
   }
  },
  {
   "cell_type": "code",
   "execution_count": 35,
   "outputs": [
    {
     "name": "stdout",
     "output_type": "stream",
     "text": [
      "Satır sayısı : 709\n",
      "Sütun sayısı : 12\n"
     ]
    }
   ],
   "source": [
    "# Verilerimizin boyutu.\n",
    "print(\"Satır sayısı : {0}\".format(tarihsel_veri_cercevesi.shape[0]))\n",
    "print(\"Sütun sayısı : {0}\".format(tarihsel_veri_cercevesi.shape[1]))"
   ],
   "metadata": {
    "collapsed": false,
    "pycharm": {
     "name": "#%%\n"
    }
   }
  },
  {
   "cell_type": "code",
   "execution_count": 36,
   "outputs": [
    {
     "data": {
      "text/plain": "Açılış Tarihi                int64\nAçılış Fiyatı               object\nEn Yüksek Fiyat             object\nEn Düşük Fiyat              object\nKapanış Fiyatı              object\nİşlem Hacmi                 object\nKapanış Tarihi               int64\nTeklif Varlık Hacmi         object\nİşlem Sayısı                 int64\nASA Temel Varlık Hacmi      object\nASA Teklifi Varlık Hacmi    object\nYoksayınız                  object\ndtype: object"
     },
     "execution_count": 36,
     "metadata": {},
     "output_type": "execute_result"
    }
   ],
   "source": [
    "# Her sütun için özellik tipleri.\n",
    "tarihsel_veri_cercevesi.dtypes"
   ],
   "metadata": {
    "collapsed": false,
    "pycharm": {
     "name": "#%%\n"
    }
   }
  },
  {
   "cell_type": "code",
   "execution_count": 37,
   "outputs": [],
   "source": [
    "# Açılış ve kapanış zamanı satırı verilerini anlamlı tarih-saat nesnesine dönüştürme işlemi. Artık tarihleri kolayca karşılaştırabiliriz.\n",
    "tarihsel_veri_cercevesi['Açılış Tarihi'] = pd.to_datetime(tarihsel_veri_cercevesi['Açılış Tarihi'] / 1000, unit='s').dt.normalize()\n",
    "tarihsel_veri_cercevesi['Kapanış Tarihi'] = pd.to_datetime(tarihsel_veri_cercevesi['Kapanış Tarihi'] / 1000, unit='s').dt.normalize()\n",
    "gosterim_veri_cercevesi['Open Time'] = pd.to_datetime(gosterim_veri_cercevesi['Open Time'] / 1000, unit='s').dt.normalize()\n",
    "gosterim_veri_cercevesi['Close Time'] = pd.to_datetime(gosterim_veri_cercevesi['Close Time'] / 1000, unit='s').dt.normalize()"
   ],
   "metadata": {
    "collapsed": false,
    "pycharm": {
     "name": "#%%\n"
    }
   }
  },
  {
   "cell_type": "code",
   "execution_count": 38,
   "outputs": [],
   "source": [
    "# Ön işleme için sayısal olmayan sütunları belirledik.\n",
    "sayisal_sutunlar = ['Açılış Fiyatı', 'En Yüksek Fiyat', 'En Düşük Fiyat', 'Kapanış Fiyatı', 'İşlem Hacmi', 'Teklif Varlık Hacmi', 'ASA Temel Varlık Hacmi', 'ASA Teklifi Varlık Hacmi']\n",
    "sayisal_sutunlar_gosterim = ['Open', 'High', 'Low', 'Close', 'Volume', 'Quote Asset Volume', 'TB Base Volume', 'TB Quote Volume']"
   ],
   "metadata": {
    "collapsed": false,
    "pycharm": {
     "name": "#%%\n"
    }
   }
  },
  {
   "cell_type": "code",
   "execution_count": 39,
   "outputs": [],
   "source": [
    "# Sayısal olmayan sütunları sayısal tipe çevirdik.\n",
    "tarihsel_veri_cercevesi[sayisal_sutunlar] = tarihsel_veri_cercevesi[sayisal_sutunlar].apply(pd.to_numeric, axis=1)\n",
    "gosterim_veri_cercevesi[sayisal_sutunlar_gosterim] = gosterim_veri_cercevesi[sayisal_sutunlar_gosterim].apply(pd.to_numeric, axis=1)"
   ],
   "metadata": {
    "collapsed": false,
    "pycharm": {
     "name": "#%%\n"
    }
   }
  },
  {
   "cell_type": "markdown",
   "source": [
    "### 3- Veri Keşfi <a class=\"anchor\" id=\"veri_kesfi\"></a>\n",
    "Veri ön-işlemeden sonra keşifsel bilgiler ve özetleri."
   ],
   "metadata": {
    "collapsed": false,
    "pycharm": {
     "name": "#%% md\n"
    }
   }
  },
  {
   "cell_type": "code",
   "execution_count": 40,
   "outputs": [
    {
     "data": {
      "text/plain": "  Açılış Tarihi  Açılış Fiyatı  En Yüksek Fiyat  En Düşük Fiyat  \\\n0    2020-01-11        8198.86          8286.34         8003.16   \n1    2020-01-12        8020.01          8197.00         7960.00   \n2    2020-01-13        8184.97          8196.00         8055.89   \n3    2020-01-14        8110.34          8880.00         8105.54   \n4    2020-01-15        8814.64          8916.48         8564.00   \n\n   Kapanış Fiyatı    İşlem Hacmi Kapanış Tarihi  Teklif Varlık Hacmi  \\\n0         8020.01   54810.032667     2020-01-11         4.450343e+08   \n1         8184.98   38131.494336     2020-01-12         3.093519e+08   \n2         8110.34   31159.755683     2020-01-13         2.526570e+08   \n3         8810.01  120399.126742     2020-01-14         1.032735e+09   \n4         8821.41   84816.297606     2020-01-15         7.437122e+08   \n\n   İşlem Sayısı  ASA Temel Varlık Hacmi  ASA Teklifi Varlık Hacmi Yoksayınız  \n0        469131            27916.124974              2.267160e+08          0  \n1        350662            19718.541096              1.599727e+08          0  \n2        289144            15215.226501              1.234074e+08          0  \n3        915328            62492.096676              5.360816e+08          0  \n4        764048            42493.551026              3.727707e+08          0  ",
      "text/html": "<div>\n<style scoped>\n    .dataframe tbody tr th:only-of-type {\n        vertical-align: middle;\n    }\n\n    .dataframe tbody tr th {\n        vertical-align: top;\n    }\n\n    .dataframe thead th {\n        text-align: right;\n    }\n</style>\n<table border=\"1\" class=\"dataframe\">\n  <thead>\n    <tr style=\"text-align: right;\">\n      <th></th>\n      <th>Açılış Tarihi</th>\n      <th>Açılış Fiyatı</th>\n      <th>En Yüksek Fiyat</th>\n      <th>En Düşük Fiyat</th>\n      <th>Kapanış Fiyatı</th>\n      <th>İşlem Hacmi</th>\n      <th>Kapanış Tarihi</th>\n      <th>Teklif Varlık Hacmi</th>\n      <th>İşlem Sayısı</th>\n      <th>ASA Temel Varlık Hacmi</th>\n      <th>ASA Teklifi Varlık Hacmi</th>\n      <th>Yoksayınız</th>\n    </tr>\n  </thead>\n  <tbody>\n    <tr>\n      <th>0</th>\n      <td>2020-01-11</td>\n      <td>8198.86</td>\n      <td>8286.34</td>\n      <td>8003.16</td>\n      <td>8020.01</td>\n      <td>54810.032667</td>\n      <td>2020-01-11</td>\n      <td>4.450343e+08</td>\n      <td>469131</td>\n      <td>27916.124974</td>\n      <td>2.267160e+08</td>\n      <td>0</td>\n    </tr>\n    <tr>\n      <th>1</th>\n      <td>2020-01-12</td>\n      <td>8020.01</td>\n      <td>8197.00</td>\n      <td>7960.00</td>\n      <td>8184.98</td>\n      <td>38131.494336</td>\n      <td>2020-01-12</td>\n      <td>3.093519e+08</td>\n      <td>350662</td>\n      <td>19718.541096</td>\n      <td>1.599727e+08</td>\n      <td>0</td>\n    </tr>\n    <tr>\n      <th>2</th>\n      <td>2020-01-13</td>\n      <td>8184.97</td>\n      <td>8196.00</td>\n      <td>8055.89</td>\n      <td>8110.34</td>\n      <td>31159.755683</td>\n      <td>2020-01-13</td>\n      <td>2.526570e+08</td>\n      <td>289144</td>\n      <td>15215.226501</td>\n      <td>1.234074e+08</td>\n      <td>0</td>\n    </tr>\n    <tr>\n      <th>3</th>\n      <td>2020-01-14</td>\n      <td>8110.34</td>\n      <td>8880.00</td>\n      <td>8105.54</td>\n      <td>8810.01</td>\n      <td>120399.126742</td>\n      <td>2020-01-14</td>\n      <td>1.032735e+09</td>\n      <td>915328</td>\n      <td>62492.096676</td>\n      <td>5.360816e+08</td>\n      <td>0</td>\n    </tr>\n    <tr>\n      <th>4</th>\n      <td>2020-01-15</td>\n      <td>8814.64</td>\n      <td>8916.48</td>\n      <td>8564.00</td>\n      <td>8821.41</td>\n      <td>84816.297606</td>\n      <td>2020-01-15</td>\n      <td>7.437122e+08</td>\n      <td>764048</td>\n      <td>42493.551026</td>\n      <td>3.727707e+08</td>\n      <td>0</td>\n    </tr>\n  </tbody>\n</table>\n</div>"
     },
     "execution_count": 40,
     "metadata": {},
     "output_type": "execute_result"
    }
   ],
   "source": [
    "# Önceden işlenmiş veri çerçevemiz.\n",
    "tarihsel_veri_cercevesi.head()"
   ],
   "metadata": {
    "collapsed": false,
    "pycharm": {
     "name": "#%%\n"
    }
   }
  },
  {
   "cell_type": "code",
   "execution_count": 41,
   "outputs": [
    {
     "data": {
      "text/plain": "Açılış Tarihi               datetime64[ns]\nAçılış Fiyatı                      float64\nEn Yüksek Fiyat                    float64\nEn Düşük Fiyat                     float64\nKapanış Fiyatı                     float64\nİşlem Hacmi                        float64\nKapanış Tarihi              datetime64[ns]\nTeklif Varlık Hacmi                float64\nİşlem Sayısı                         int64\nASA Temel Varlık Hacmi             float64\nASA Teklifi Varlık Hacmi           float64\nYoksayınız                          object\ndtype: object"
     },
     "execution_count": 41,
     "metadata": {},
     "output_type": "execute_result"
    }
   ],
   "source": [
    "# Sütunların tipleri.\n",
    "tarihsel_veri_cercevesi.dtypes"
   ],
   "metadata": {
    "collapsed": false,
    "pycharm": {
     "name": "#%%\n"
    }
   }
  },
  {
   "cell_type": "code",
   "execution_count": 42,
   "outputs": [
    {
     "data": {
      "text/plain": "       Açılış Fiyatı  En Yüksek Fiyat  En Düşük Fiyat  Kapanış Fiyatı  \\\ncount     709.000000       709.000000      709.000000      709.000000   \nmean    29150.023089     30020.584612    28166.035839    29204.498787   \nstd     19637.758836     20205.880981    18958.474264    19633.089705   \nmin      4800.010000      5365.420000     3782.130000     4800.000000   \n25%      9772.440000      9950.000000     9550.210000     9775.530000   \n50%     27385.000000     28996.000000    27320.000000    28875.540000   \n75%     47674.010000     49156.000000    46406.910000    47674.010000   \nmax     67525.820000     69000.000000    66222.400000    67525.830000   \n\n         İşlem Hacmi  Teklif Varlık Hacmi  İşlem Sayısı  \\\ncount     709.000000         7.090000e+02  7.090000e+02   \nmean    70904.863478         1.998933e+09  1.365362e+06   \nstd     39264.712417         1.640751e+09  7.576459e+05   \nmin     22298.221341         2.066281e+08  2.831180e+05   \n25%     46085.254351         6.156648e+08  7.505160e+05   \n50%     60951.672986         1.594996e+09  1.220555e+06   \n75%     84363.679763         2.958081e+09  1.814051e+06   \nmax    402201.673764         1.347769e+10  6.331062e+06   \n\n       ASA Temel Varlık Hacmi  ASA Teklifi Varlık Hacmi  \ncount              709.000000              7.090000e+02  \nmean             34704.831667              9.824350e+08  \nstd              19094.105186              8.048288e+08  \nmin              10318.024614              9.992165e+07  \n25%              22545.243750              2.953515e+08  \n50%              29609.994698              7.873244e+08  \n75%              41221.961009              1.466279e+09  \nmax             197511.954273              6.410033e+09  ",
      "text/html": "<div>\n<style scoped>\n    .dataframe tbody tr th:only-of-type {\n        vertical-align: middle;\n    }\n\n    .dataframe tbody tr th {\n        vertical-align: top;\n    }\n\n    .dataframe thead th {\n        text-align: right;\n    }\n</style>\n<table border=\"1\" class=\"dataframe\">\n  <thead>\n    <tr style=\"text-align: right;\">\n      <th></th>\n      <th>Açılış Fiyatı</th>\n      <th>En Yüksek Fiyat</th>\n      <th>En Düşük Fiyat</th>\n      <th>Kapanış Fiyatı</th>\n      <th>İşlem Hacmi</th>\n      <th>Teklif Varlık Hacmi</th>\n      <th>İşlem Sayısı</th>\n      <th>ASA Temel Varlık Hacmi</th>\n      <th>ASA Teklifi Varlık Hacmi</th>\n    </tr>\n  </thead>\n  <tbody>\n    <tr>\n      <th>count</th>\n      <td>709.000000</td>\n      <td>709.000000</td>\n      <td>709.000000</td>\n      <td>709.000000</td>\n      <td>709.000000</td>\n      <td>7.090000e+02</td>\n      <td>7.090000e+02</td>\n      <td>709.000000</td>\n      <td>7.090000e+02</td>\n    </tr>\n    <tr>\n      <th>mean</th>\n      <td>29150.023089</td>\n      <td>30020.584612</td>\n      <td>28166.035839</td>\n      <td>29204.498787</td>\n      <td>70904.863478</td>\n      <td>1.998933e+09</td>\n      <td>1.365362e+06</td>\n      <td>34704.831667</td>\n      <td>9.824350e+08</td>\n    </tr>\n    <tr>\n      <th>std</th>\n      <td>19637.758836</td>\n      <td>20205.880981</td>\n      <td>18958.474264</td>\n      <td>19633.089705</td>\n      <td>39264.712417</td>\n      <td>1.640751e+09</td>\n      <td>7.576459e+05</td>\n      <td>19094.105186</td>\n      <td>8.048288e+08</td>\n    </tr>\n    <tr>\n      <th>min</th>\n      <td>4800.010000</td>\n      <td>5365.420000</td>\n      <td>3782.130000</td>\n      <td>4800.000000</td>\n      <td>22298.221341</td>\n      <td>2.066281e+08</td>\n      <td>2.831180e+05</td>\n      <td>10318.024614</td>\n      <td>9.992165e+07</td>\n    </tr>\n    <tr>\n      <th>25%</th>\n      <td>9772.440000</td>\n      <td>9950.000000</td>\n      <td>9550.210000</td>\n      <td>9775.530000</td>\n      <td>46085.254351</td>\n      <td>6.156648e+08</td>\n      <td>7.505160e+05</td>\n      <td>22545.243750</td>\n      <td>2.953515e+08</td>\n    </tr>\n    <tr>\n      <th>50%</th>\n      <td>27385.000000</td>\n      <td>28996.000000</td>\n      <td>27320.000000</td>\n      <td>28875.540000</td>\n      <td>60951.672986</td>\n      <td>1.594996e+09</td>\n      <td>1.220555e+06</td>\n      <td>29609.994698</td>\n      <td>7.873244e+08</td>\n    </tr>\n    <tr>\n      <th>75%</th>\n      <td>47674.010000</td>\n      <td>49156.000000</td>\n      <td>46406.910000</td>\n      <td>47674.010000</td>\n      <td>84363.679763</td>\n      <td>2.958081e+09</td>\n      <td>1.814051e+06</td>\n      <td>41221.961009</td>\n      <td>1.466279e+09</td>\n    </tr>\n    <tr>\n      <th>max</th>\n      <td>67525.820000</td>\n      <td>69000.000000</td>\n      <td>66222.400000</td>\n      <td>67525.830000</td>\n      <td>402201.673764</td>\n      <td>1.347769e+10</td>\n      <td>6.331062e+06</td>\n      <td>197511.954273</td>\n      <td>6.410033e+09</td>\n    </tr>\n  </tbody>\n</table>\n</div>"
     },
     "execution_count": 42,
     "metadata": {},
     "output_type": "execute_result"
    }
   ],
   "source": [
    "# Veri ön işlemesinden sonraki haliyle veri çerçevesi için açıklayıcı bilgilerin yer aldığı tablo.\n",
    "tarihsel_veri_cercevesi.describe()"
   ],
   "metadata": {
    "collapsed": false,
    "pycharm": {
     "name": "#%%\n"
    }
   }
  },
  {
   "cell_type": "code",
   "execution_count": 43,
   "outputs": [
    {
     "name": "stdout",
     "output_type": "stream",
     "text": [
      "<class 'pandas.core.frame.DataFrame'>\n",
      "RangeIndex: 709 entries, 0 to 708\n",
      "Data columns (total 12 columns):\n",
      " #   Column                    Non-Null Count  Dtype         \n",
      "---  ------                    --------------  -----         \n",
      " 0   Açılış Tarihi             709 non-null    datetime64[ns]\n",
      " 1   Açılış Fiyatı             709 non-null    float64       \n",
      " 2   En Yüksek Fiyat           709 non-null    float64       \n",
      " 3   En Düşük Fiyat            709 non-null    float64       \n",
      " 4   Kapanış Fiyatı            709 non-null    float64       \n",
      " 5   İşlem Hacmi               709 non-null    float64       \n",
      " 6   Kapanış Tarihi            709 non-null    datetime64[ns]\n",
      " 7   Teklif Varlık Hacmi       709 non-null    float64       \n",
      " 8   İşlem Sayısı              709 non-null    int64         \n",
      " 9   ASA Temel Varlık Hacmi    709 non-null    float64       \n",
      " 10  ASA Teklifi Varlık Hacmi  709 non-null    float64       \n",
      " 11  Yoksayınız                709 non-null    object        \n",
      "dtypes: datetime64[ns](2), float64(8), int64(1), object(1)\n",
      "memory usage: 66.6+ KB\n"
     ]
    }
   ],
   "source": [
    "# Veri çerçevesi hakkında diğer bilgiler.\n",
    "tarihsel_veri_cercevesi.info()"
   ],
   "metadata": {
    "collapsed": false,
    "pycharm": {
     "name": "#%%\n"
    }
   }
  },
  {
   "cell_type": "code",
   "execution_count": 44,
   "outputs": [
    {
     "data": {
      "text/plain": "<Figure size 800x575 with 4 Axes>",
      "image/png": "[encoded data removed]"
     },
     "metadata": {},
     "output_type": "display_data"
    }
   ],
   "source": [
    "# BTCUSDT grafiğini göstermek için mplfinance(matplotlib-finance) paketini içe aktarma.\n",
    "import mplfinance as mpf\n",
    "\n",
    "mpf.plot(gosterim_veri_cercevesi.set_index('Close Time').tail(120),\n",
    "         type='candle', style='charles',\n",
    "         volume=True,\n",
    "         title='BTCUSDT',\n",
    "         mav=(10, 20, 30))"
   ],
   "metadata": {
    "collapsed": false,
    "pycharm": {
     "name": "#%%\n"
    }
   }
  },
  {
   "cell_type": "markdown",
   "source": [
    "### 4- Özellik Mühendisliği <a class=\"anchor\" id=\"ozellik_muhendisligi\"></a>\n",
    "Bu adımda ihtiyacımız olmayan sütunları kaldırdık. Sadece açılış tarihi, kapanış tarihi ve açılış-kapanış fiyatları bizim için geçerli olacaktır. Bu sayede ilgili 2 haftalık aralıklarla kapanış fiyatı-açılış fiyatı formülü ile artış/azalış durumunu tespit edebileceğiz."
   ],
   "metadata": {
    "collapsed": false,
    "pycharm": {
     "name": "#%% md\n"
    }
   }
  },
  {
   "cell_type": "code",
   "execution_count": 45,
   "outputs": [
    {
     "name": "stdout",
     "output_type": "stream",
     "text": [
      "<class 'pandas.core.frame.DataFrame'>\n",
      "RangeIndex: 709 entries, 0 to 708\n",
      "Data columns (total 4 columns):\n",
      " #   Column          Non-Null Count  Dtype         \n",
      "---  ------          --------------  -----         \n",
      " 0   Açılış Tarihi   709 non-null    datetime64[ns]\n",
      " 1   Açılış Fiyatı   709 non-null    float64       \n",
      " 2   Kapanış Fiyatı  709 non-null    float64       \n",
      " 3   Kapanış Tarihi  709 non-null    datetime64[ns]\n",
      "dtypes: datetime64[ns](2), float64(2)\n",
      "memory usage: 22.3 KB\n"
     ]
    }
   ],
   "source": [
    "# BTC veri çerçevesinin gereksiz sütunları.\n",
    "ozet_veri_cercevesi = tarihsel_veri_cercevesi.drop(['En Yüksek Fiyat', 'En Düşük Fiyat', 'İşlem Hacmi', 'Teklif Varlık Hacmi', 'İşlem Sayısı', 'ASA Temel Varlık Hacmi', 'ASA Teklifi Varlık Hacmi', 'Yoksayınız'], axis=1)\n",
    "ozet_veri_cercevesi.info()"
   ],
   "metadata": {
    "collapsed": false,
    "pycharm": {
     "name": "#%%\n"
    }
   }
  },
  {
   "cell_type": "code",
   "execution_count": 46,
   "outputs": [
    {
     "name": "stdout",
     "output_type": "stream",
     "text": [
      "Dolunay evresindeki verilerin bulunduğu grup\n",
      "  Phase's Next Date Next Phase's First Date Starting Phase Name\n",
      "0        2020-01-11              2020-01-25           Full Moon\n",
      "1        2020-02-10              2020-02-23           Full Moon\n",
      "2        2020-03-10              2020-03-24           Full Moon\n",
      "3        2020-04-09              2020-04-23           Full Moon\n",
      "4        2020-05-08              2020-05-22           Full Moon\n",
      "\n",
      "Yeni ay evresindeki verilerin bulunduğu grup\n",
      "  Phase's Next Date Next Phase's First Date Starting Phase Name\n",
      "0        2020-01-26              2020-02-09            New Moon\n",
      "1        2020-02-24              2020-03-09            New Moon\n",
      "2        2020-03-25              2020-04-08            New Moon\n",
      "3        2020-04-24              2020-05-07            New Moon\n",
      "4        2020-05-23              2020-06-05            New Moon\n"
     ]
    }
   ],
   "source": [
    "# Ay evreleri veri çerçevesini filtreleme ve evrelerine göre iki farklı grup oluşturma.\n",
    "# Her ay evresi için tarih aralıklarının seçilmesi ve ayrılması.\n",
    "dolunay_evresi_verileri = evreler_veri_cercevesi[evreler_veri_cercevesi[\"Starting Phase Name\"] == \"Full Moon\"].reset_index(drop=True)\n",
    "yeniay_evresi_verileri = evreler_veri_cercevesi[evreler_veri_cercevesi[\"Starting Phase Name\"] == \"New Moon\"].reset_index(drop=True)\n",
    "\n",
    "print(\"Dolunay evresindeki verilerin bulunduğu grup\")\n",
    "print(dolunay_evresi_verileri.head())\n",
    "print()\n",
    "print(\"Yeni ay evresindeki verilerin bulunduğu grup\")\n",
    "print(yeniay_evresi_verileri.head())"
   ],
   "metadata": {
    "collapsed": false,
    "pycharm": {
     "name": "#%%\n"
    }
   }
  },
  {
   "cell_type": "markdown",
   "source": [
    "### 5- Analiz <a class=\"anchor\" id=\"analiz\"></a>"
   ],
   "metadata": {
    "collapsed": false,
    "pycharm": {
     "name": "#%% md\n"
    }
   }
  },
  {
   "cell_type": "code",
   "execution_count": 47,
   "outputs": [],
   "source": [
    "# İlgili bilgileri tutmak ve sütunlara dönüştürmek için oluşturduğumuz listeler.\n",
    "acilis_fiyatlari_listesi = []\n",
    "kapanis_fiyatlari_listesi = []\n",
    "acilis_tarihleri = []\n",
    "kapanis_tarihleri = []\n",
    "\n",
    "# BTC Fiyatı veri çerçevesinden tüm dolunay evresi aralıklarını ve diğer bilgileri seçme.\n",
    "for i in range(dolunay_evresi_verileri.shape[0]):\n",
    "    for j in range(ozet_veri_cercevesi.shape[0]):\n",
    "        if dolunay_evresi_verileri.iloc[i][\"Phase\\'s Next Date\"] == ozet_veri_cercevesi.iloc[j][\"Açılış Tarihi\"]:\n",
    "            acilis_fiyati = ozet_veri_cercevesi.iloc[j][\"Açılış Fiyatı\"]\n",
    "            acilis_fiyatlari_listesi.append(acilis_fiyati)\n",
    "            acilis_tarihleri.append(dolunay_evresi_verileri.iloc[i][\"Phase\\'s Next Date\"])\n",
    "\n",
    "for i in range(dolunay_evresi_verileri.shape[0]):\n",
    "    for j in range(ozet_veri_cercevesi.shape[0]):\n",
    "        if dolunay_evresi_verileri.iloc[i][\"Next Phase\\'s First Date\"] == ozet_veri_cercevesi.iloc[j][\"Kapanış Tarihi\"]:\n",
    "            kapanis_fiyati = ozet_veri_cercevesi.iloc[j][\"Kapanış Fiyatı\"]\n",
    "            kapanis_fiyatlari_listesi.append(kapanis_fiyati)\n",
    "            kapanis_tarihleri.append(dolunay_evresi_verileri.iloc[i][\"Next Phase\\'s First Date\"])"
   ],
   "metadata": {
    "collapsed": false,
    "pycharm": {
     "name": "#%%\n"
    }
   }
  },
  {
   "cell_type": "code",
   "execution_count": 48,
   "outputs": [
    {
     "data": {
      "text/plain": "   Açılış Tarihi Kapanış Tarihi Açılış Fiyatı Kapanış Fiyatı  \\\n0     2020-01-11     2020-01-25       8198.86        8340.58   \n1     2020-02-10     2020-02-23      10151.72         9936.4   \n2     2020-03-10     2020-03-24       7929.87        6744.72   \n3     2020-04-09     2020-04-23       7360.26        7482.39   \n4     2020-05-08     2020-05-22        9986.3         9170.0   \n5     2020-06-06     2020-06-21       9621.17        9294.69   \n6     2020-07-06     2020-07-20       9069.41        9160.78   \n7     2020-08-04     2020-08-19      11219.68       11754.59   \n8     2020-09-03     2020-09-17      11388.54       10939.99   \n9     2020-10-03     2020-10-16       10570.4       11319.32   \n10    2020-11-01     2020-11-15       13791.0        15957.0   \n11    2020-12-01     2020-12-14      19695.87       19273.14   \n12    2020-12-31     2021-01-13      28875.55       37371.38   \n13    2021-01-29     2021-02-11      33368.18       47969.51   \n14    2021-02-28     2021-03-13      46103.67       61188.39   \n15    2021-03-29     2021-04-12      55777.65        59860.0   \n16    2021-04-28     2021-05-11      55011.97       56670.02   \n17    2021-05-27     2021-06-10      39241.92       36675.72   \n18    2021-06-25     2021-06-10      34663.08       36675.72   \n19    2021-07-25     2021-08-08      34261.51       43794.37   \n20    2021-08-23     2021-09-07      49239.22       46863.73   \n21    2021-09-22     2021-10-06      40734.09        55315.0   \n22    2021-10-21     2021-11-05       66001.4       60937.12   \n23    2021-11-20     2021-12-04       58057.1       49152.47   \n\n   Fiyat Değişim Miktarı  \n0                 141.72  \n1                -215.32  \n2               -1185.15  \n3                 122.13  \n4                 -816.3  \n5                -326.48  \n6                  91.37  \n7                 534.91  \n8                -448.55  \n9                 748.92  \n10                2166.0  \n11               -422.73  \n12               8495.83  \n13              14601.33  \n14              15084.72  \n15               4082.35  \n16               1658.05  \n17               -2566.2  \n18               2012.64  \n19               9532.86  \n20              -2375.49  \n21              14580.91  \n22              -5064.28  \n23              -8904.63  ",
      "text/html": "<div>\n<style scoped>\n    .dataframe tbody tr th:only-of-type {\n        vertical-align: middle;\n    }\n\n    .dataframe tbody tr th {\n        vertical-align: top;\n    }\n\n    .dataframe thead th {\n        text-align: right;\n    }\n</style>\n<table border=\"1\" class=\"dataframe\">\n  <thead>\n    <tr style=\"text-align: right;\">\n      <th></th>\n      <th>Açılış Tarihi</th>\n      <th>Kapanış Tarihi</th>\n      <th>Açılış Fiyatı</th>\n      <th>Kapanış Fiyatı</th>\n      <th>Fiyat Değişim Miktarı</th>\n    </tr>\n  </thead>\n  <tbody>\n    <tr>\n      <th>0</th>\n      <td>2020-01-11</td>\n      <td>2020-01-25</td>\n      <td>8198.86</td>\n      <td>8340.58</td>\n      <td>141.72</td>\n    </tr>\n    <tr>\n      <th>1</th>\n      <td>2020-02-10</td>\n      <td>2020-02-23</td>\n      <td>10151.72</td>\n      <td>9936.4</td>\n      <td>-215.32</td>\n    </tr>\n    <tr>\n      <th>2</th>\n      <td>2020-03-10</td>\n      <td>2020-03-24</td>\n      <td>7929.87</td>\n      <td>6744.72</td>\n      <td>-1185.15</td>\n    </tr>\n    <tr>\n      <th>3</th>\n      <td>2020-04-09</td>\n      <td>2020-04-23</td>\n      <td>7360.26</td>\n      <td>7482.39</td>\n      <td>122.13</td>\n    </tr>\n    <tr>\n      <th>4</th>\n      <td>2020-05-08</td>\n      <td>2020-05-22</td>\n      <td>9986.3</td>\n      <td>9170.0</td>\n      <td>-816.3</td>\n    </tr>\n    <tr>\n      <th>5</th>\n      <td>2020-06-06</td>\n      <td>2020-06-21</td>\n      <td>9621.17</td>\n      <td>9294.69</td>\n      <td>-326.48</td>\n    </tr>\n    <tr>\n      <th>6</th>\n      <td>2020-07-06</td>\n      <td>2020-07-20</td>\n      <td>9069.41</td>\n      <td>9160.78</td>\n      <td>91.37</td>\n    </tr>\n    <tr>\n      <th>7</th>\n      <td>2020-08-04</td>\n      <td>2020-08-19</td>\n      <td>11219.68</td>\n      <td>11754.59</td>\n      <td>534.91</td>\n    </tr>\n    <tr>\n      <th>8</th>\n      <td>2020-09-03</td>\n      <td>2020-09-17</td>\n      <td>11388.54</td>\n      <td>10939.99</td>\n      <td>-448.55</td>\n    </tr>\n    <tr>\n      <th>9</th>\n      <td>2020-10-03</td>\n      <td>2020-10-16</td>\n      <td>10570.4</td>\n      <td>11319.32</td>\n      <td>748.92</td>\n    </tr>\n    <tr>\n      <th>10</th>\n      <td>2020-11-01</td>\n      <td>2020-11-15</td>\n      <td>13791.0</td>\n      <td>15957.0</td>\n      <td>2166.0</td>\n    </tr>\n    <tr>\n      <th>11</th>\n      <td>2020-12-01</td>\n      <td>2020-12-14</td>\n      <td>19695.87</td>\n      <td>19273.14</td>\n      <td>-422.73</td>\n    </tr>\n    <tr>\n      <th>12</th>\n      <td>2020-12-31</td>\n      <td>2021-01-13</td>\n      <td>28875.55</td>\n      <td>37371.38</td>\n      <td>8495.83</td>\n    </tr>\n    <tr>\n      <th>13</th>\n      <td>2021-01-29</td>\n      <td>2021-02-11</td>\n      <td>33368.18</td>\n      <td>47969.51</td>\n      <td>14601.33</td>\n    </tr>\n    <tr>\n      <th>14</th>\n      <td>2021-02-28</td>\n      <td>2021-03-13</td>\n      <td>46103.67</td>\n      <td>61188.39</td>\n      <td>15084.72</td>\n    </tr>\n    <tr>\n      <th>15</th>\n      <td>2021-03-29</td>\n      <td>2021-04-12</td>\n      <td>55777.65</td>\n      <td>59860.0</td>\n      <td>4082.35</td>\n    </tr>\n    <tr>\n      <th>16</th>\n      <td>2021-04-28</td>\n      <td>2021-05-11</td>\n      <td>55011.97</td>\n      <td>56670.02</td>\n      <td>1658.05</td>\n    </tr>\n    <tr>\n      <th>17</th>\n      <td>2021-05-27</td>\n      <td>2021-06-10</td>\n      <td>39241.92</td>\n      <td>36675.72</td>\n      <td>-2566.2</td>\n    </tr>\n    <tr>\n      <th>18</th>\n      <td>2021-06-25</td>\n      <td>2021-06-10</td>\n      <td>34663.08</td>\n      <td>36675.72</td>\n      <td>2012.64</td>\n    </tr>\n    <tr>\n      <th>19</th>\n      <td>2021-07-25</td>\n      <td>2021-08-08</td>\n      <td>34261.51</td>\n      <td>43794.37</td>\n      <td>9532.86</td>\n    </tr>\n    <tr>\n      <th>20</th>\n      <td>2021-08-23</td>\n      <td>2021-09-07</td>\n      <td>49239.22</td>\n      <td>46863.73</td>\n      <td>-2375.49</td>\n    </tr>\n    <tr>\n      <th>21</th>\n      <td>2021-09-22</td>\n      <td>2021-10-06</td>\n      <td>40734.09</td>\n      <td>55315.0</td>\n      <td>14580.91</td>\n    </tr>\n    <tr>\n      <th>22</th>\n      <td>2021-10-21</td>\n      <td>2021-11-05</td>\n      <td>66001.4</td>\n      <td>60937.12</td>\n      <td>-5064.28</td>\n    </tr>\n    <tr>\n      <th>23</th>\n      <td>2021-11-20</td>\n      <td>2021-12-04</td>\n      <td>58057.1</td>\n      <td>49152.47</td>\n      <td>-8904.63</td>\n    </tr>\n  </tbody>\n</table>\n</div>"
     },
     "execution_count": 48,
     "metadata": {},
     "output_type": "execute_result"
    }
   ],
   "source": [
    "# Artış görülmesi beklenen tarih aralıklarının yer aldığı veri çerçevesini, doldurduğumuz listeler ile oluşturma.\n",
    "artmasi_beklenenlerin_veri_cercevesi = pd.DataFrame([acilis_tarihleri,kapanis_tarihleri,acilis_fiyatlari_listesi,kapanis_fiyatlari_listesi]).transpose()\n",
    "artmasi_beklenenlerin_veri_cercevesi.columns=['Açılış Tarihi','Kapanış Tarihi','Açılış Fiyatı','Kapanış Fiyatı']\n",
    "\n",
    "# Çıkarma işlemi ile fiyat değişim tutarının hesaplanması.\n",
    "artmasi_beklenenlerin_veri_cercevesi = pd.concat([artmasi_beklenenlerin_veri_cercevesi, artmasi_beklenenlerin_veri_cercevesi['Kapanış Fiyatı']-artmasi_beklenenlerin_veri_cercevesi['Açılış Fiyatı']], axis=1, join='inner')\n",
    "\n",
    "# Sütün isimlerini düzenleme.\n",
    "artmasi_beklenenlerin_veri_cercevesi.columns=['Açılış Tarihi','Kapanış Tarihi','Açılış Fiyatı','Kapanış Fiyatı', 'Fiyat Değişim Miktarı']\n",
    "\n",
    "artmasi_beklenenlerin_veri_cercevesi"
   ],
   "metadata": {
    "collapsed": false,
    "pycharm": {
     "name": "#%%\n"
    }
   }
  },
  {
   "cell_type": "code",
   "execution_count": 49,
   "outputs": [],
   "source": [
    "# İlgili bilgileri tutmak ve sütunlara dönüştürmek için oluşturduğumuz listeler.\n",
    "acilis_fiyatlari_listesi = []\n",
    "kapanis_fiyatlari_listesi = []\n",
    "acilis_tarihleri = []\n",
    "kapanis_tarihleri = []\n",
    "\n",
    "# BTC Fiyatı veri çerçevesinden tüm yeni ay evresi aralıklarını ve diğer bilgileri seçme.\n",
    "for i in range(yeniay_evresi_verileri.shape[0]):\n",
    "    for j in range(ozet_veri_cercevesi.shape[0]):\n",
    "        if yeniay_evresi_verileri.iloc[i][\"Phase\\'s Next Date\"] == ozet_veri_cercevesi.iloc[j][\"Açılış Tarihi\"]:\n",
    "            acilis_fiyati = ozet_veri_cercevesi.iloc[j][\"Açılış Fiyatı\"]\n",
    "            acilis_fiyatlari_listesi.append(acilis_fiyati)\n",
    "            acilis_tarihleri.append(yeniay_evresi_verileri.iloc[i][\"Phase\\'s Next Date\"])\n",
    "\n",
    "for i in range(yeniay_evresi_verileri.shape[0]):\n",
    "    for j in range(ozet_veri_cercevesi.shape[0]):\n",
    "        if yeniay_evresi_verileri.iloc[i][\"Next Phase\\'s First Date\"] == ozet_veri_cercevesi.iloc[j][\"Kapanış Tarihi\"]:\n",
    "            kapanis_fiyati = ozet_veri_cercevesi.iloc[j][\"Kapanış Fiyatı\"]\n",
    "            kapanis_fiyatlari_listesi.append(kapanis_fiyati)\n",
    "            kapanis_tarihleri.append(yeniay_evresi_verileri.iloc[i][\"Next Phase\\'s First Date\"])"
   ],
   "metadata": {
    "collapsed": false,
    "pycharm": {
     "name": "#%%\n"
    }
   }
  },
  {
   "cell_type": "code",
   "execution_count": 50,
   "outputs": [
    {
     "data": {
      "text/plain": "   Açılış Tarihi Kapanış Tarihi Açılış Fiyatı Kapanış Fiyatı  \\\n0     2020-01-26     2020-02-09       8340.01       10151.75   \n1     2020-02-24     2020-03-09        9936.4        7929.87   \n2     2020-03-25     2020-04-08       6744.69        7361.28   \n3     2020-04-24     2020-05-07       7483.96         9986.4   \n4     2020-05-23     2020-06-05        9170.0        9621.16   \n5     2020-06-22     2020-07-05       9294.69        9069.41   \n6     2020-07-21     2020-08-03       9160.78       11219.81   \n7     2020-08-20     2020-09-02      11754.38       11388.54   \n8     2020-09-18     2020-10-02       10940.0        10570.4   \n9     2020-10-17     2020-10-31      11319.24        13791.0   \n10    2020-11-16     2020-11-30       15957.0       19695.87   \n11    2020-12-15     2020-12-30      19273.69       28875.54   \n12    2021-01-14     2021-01-28      37371.38       33364.86   \n13    2021-02-12     2021-02-27      47968.66       46106.43   \n14    2021-03-14     2021-03-28      61188.38       55777.63   \n15    2021-04-13     2021-04-27      59860.01       55011.97   \n16    2021-05-12     2021-05-26      56670.02       39241.91   \n17    2021-06-11     2021-06-24      36677.83       34663.09   \n18    2021-06-11     2021-07-24      36677.83       34258.14   \n19    2021-08-09     2021-08-22      43794.36       49239.22   \n20    2021-09-08     2021-09-21      46868.57       40734.38   \n21    2021-10-07     2021-10-20       55315.0       66001.41   \n22    2021-11-06     2021-11-19      60940.18       58052.24   \n23    2021-12-05     2021-12-19      49152.46       46681.23   \n\n   Fiyat Değişim Miktarı  \n0                1811.74  \n1               -2006.53  \n2                 616.59  \n3                2502.44  \n4                 451.16  \n5                -225.28  \n6                2059.03  \n7                -365.84  \n8                 -369.6  \n9                2471.76  \n10               3738.87  \n11               9601.85  \n12              -4006.52  \n13              -1862.23  \n14              -5410.75  \n15              -4848.04  \n16             -17428.11  \n17              -2014.74  \n18              -2419.69  \n19               5444.86  \n20              -6134.19  \n21              10686.41  \n22              -2887.94  \n23              -2471.23  ",
      "text/html": "<div>\n<style scoped>\n    .dataframe tbody tr th:only-of-type {\n        vertical-align: middle;\n    }\n\n    .dataframe tbody tr th {\n        vertical-align: top;\n    }\n\n    .dataframe thead th {\n        text-align: right;\n    }\n</style>\n<table border=\"1\" class=\"dataframe\">\n  <thead>\n    <tr style=\"text-align: right;\">\n      <th></th>\n      <th>Açılış Tarihi</th>\n      <th>Kapanış Tarihi</th>\n      <th>Açılış Fiyatı</th>\n      <th>Kapanış Fiyatı</th>\n      <th>Fiyat Değişim Miktarı</th>\n    </tr>\n  </thead>\n  <tbody>\n    <tr>\n      <th>0</th>\n      <td>2020-01-26</td>\n      <td>2020-02-09</td>\n      <td>8340.01</td>\n      <td>10151.75</td>\n      <td>1811.74</td>\n    </tr>\n    <tr>\n      <th>1</th>\n      <td>2020-02-24</td>\n      <td>2020-03-09</td>\n      <td>9936.4</td>\n      <td>7929.87</td>\n      <td>-2006.53</td>\n    </tr>\n    <tr>\n      <th>2</th>\n      <td>2020-03-25</td>\n      <td>2020-04-08</td>\n      <td>6744.69</td>\n      <td>7361.28</td>\n      <td>616.59</td>\n    </tr>\n    <tr>\n      <th>3</th>\n      <td>2020-04-24</td>\n      <td>2020-05-07</td>\n      <td>7483.96</td>\n      <td>9986.4</td>\n      <td>2502.44</td>\n    </tr>\n    <tr>\n      <th>4</th>\n      <td>2020-05-23</td>\n      <td>2020-06-05</td>\n      <td>9170.0</td>\n      <td>9621.16</td>\n      <td>451.16</td>\n    </tr>\n    <tr>\n      <th>5</th>\n      <td>2020-06-22</td>\n      <td>2020-07-05</td>\n      <td>9294.69</td>\n      <td>9069.41</td>\n      <td>-225.28</td>\n    </tr>\n    <tr>\n      <th>6</th>\n      <td>2020-07-21</td>\n      <td>2020-08-03</td>\n      <td>9160.78</td>\n      <td>11219.81</td>\n      <td>2059.03</td>\n    </tr>\n    <tr>\n      <th>7</th>\n      <td>2020-08-20</td>\n      <td>2020-09-02</td>\n      <td>11754.38</td>\n      <td>11388.54</td>\n      <td>-365.84</td>\n    </tr>\n    <tr>\n      <th>8</th>\n      <td>2020-09-18</td>\n      <td>2020-10-02</td>\n      <td>10940.0</td>\n      <td>10570.4</td>\n      <td>-369.6</td>\n    </tr>\n    <tr>\n      <th>9</th>\n      <td>2020-10-17</td>\n      <td>2020-10-31</td>\n      <td>11319.24</td>\n      <td>13791.0</td>\n      <td>2471.76</td>\n    </tr>\n    <tr>\n      <th>10</th>\n      <td>2020-11-16</td>\n      <td>2020-11-30</td>\n      <td>15957.0</td>\n      <td>19695.87</td>\n      <td>3738.87</td>\n    </tr>\n    <tr>\n      <th>11</th>\n      <td>2020-12-15</td>\n      <td>2020-12-30</td>\n      <td>19273.69</td>\n      <td>28875.54</td>\n      <td>9601.85</td>\n    </tr>\n    <tr>\n      <th>12</th>\n      <td>2021-01-14</td>\n      <td>2021-01-28</td>\n      <td>37371.38</td>\n      <td>33364.86</td>\n      <td>-4006.52</td>\n    </tr>\n    <tr>\n      <th>13</th>\n      <td>2021-02-12</td>\n      <td>2021-02-27</td>\n      <td>47968.66</td>\n      <td>46106.43</td>\n      <td>-1862.23</td>\n    </tr>\n    <tr>\n      <th>14</th>\n      <td>2021-03-14</td>\n      <td>2021-03-28</td>\n      <td>61188.38</td>\n      <td>55777.63</td>\n      <td>-5410.75</td>\n    </tr>\n    <tr>\n      <th>15</th>\n      <td>2021-04-13</td>\n      <td>2021-04-27</td>\n      <td>59860.01</td>\n      <td>55011.97</td>\n      <td>-4848.04</td>\n    </tr>\n    <tr>\n      <th>16</th>\n      <td>2021-05-12</td>\n      <td>2021-05-26</td>\n      <td>56670.02</td>\n      <td>39241.91</td>\n      <td>-17428.11</td>\n    </tr>\n    <tr>\n      <th>17</th>\n      <td>2021-06-11</td>\n      <td>2021-06-24</td>\n      <td>36677.83</td>\n      <td>34663.09</td>\n      <td>-2014.74</td>\n    </tr>\n    <tr>\n      <th>18</th>\n      <td>2021-06-11</td>\n      <td>2021-07-24</td>\n      <td>36677.83</td>\n      <td>34258.14</td>\n      <td>-2419.69</td>\n    </tr>\n    <tr>\n      <th>19</th>\n      <td>2021-08-09</td>\n      <td>2021-08-22</td>\n      <td>43794.36</td>\n      <td>49239.22</td>\n      <td>5444.86</td>\n    </tr>\n    <tr>\n      <th>20</th>\n      <td>2021-09-08</td>\n      <td>2021-09-21</td>\n      <td>46868.57</td>\n      <td>40734.38</td>\n      <td>-6134.19</td>\n    </tr>\n    <tr>\n      <th>21</th>\n      <td>2021-10-07</td>\n      <td>2021-10-20</td>\n      <td>55315.0</td>\n      <td>66001.41</td>\n      <td>10686.41</td>\n    </tr>\n    <tr>\n      <th>22</th>\n      <td>2021-11-06</td>\n      <td>2021-11-19</td>\n      <td>60940.18</td>\n      <td>58052.24</td>\n      <td>-2887.94</td>\n    </tr>\n    <tr>\n      <th>23</th>\n      <td>2021-12-05</td>\n      <td>2021-12-19</td>\n      <td>49152.46</td>\n      <td>46681.23</td>\n      <td>-2471.23</td>\n    </tr>\n  </tbody>\n</table>\n</div>"
     },
     "execution_count": 50,
     "metadata": {},
     "output_type": "execute_result"
    }
   ],
   "source": [
    "# Azalış görülmesi beklenen tarih aralıklarının yer aldığı veri çerçevesini, doldurduğumuz listeler ile oluşturma.\n",
    "azalmasi_beklenenlerin_veri_cercevesi = pd.DataFrame([acilis_tarihleri,kapanis_tarihleri,acilis_fiyatlari_listesi,kapanis_fiyatlari_listesi]).transpose()\n",
    "azalmasi_beklenenlerin_veri_cercevesi.columns=['Açılış Tarihi','Kapanış Tarihi','Açılış Fiyatı','Kapanış Fiyatı']\n",
    "\n",
    "# Çıkarma işlemi ile fiyat değişim tutarının hesaplanması.\n",
    "azalmasi_beklenenlerin_veri_cercevesi = pd.concat([azalmasi_beklenenlerin_veri_cercevesi, azalmasi_beklenenlerin_veri_cercevesi['Kapanış Fiyatı']-azalmasi_beklenenlerin_veri_cercevesi['Açılış Fiyatı']], axis=1, join='inner')\n",
    "\n",
    "# Sütün isimlerini düzenleme.\n",
    "azalmasi_beklenenlerin_veri_cercevesi.columns=['Açılış Tarihi','Kapanış Tarihi','Açılış Fiyatı','Kapanış Fiyatı', 'Fiyat Değişim Miktarı']\n",
    "\n",
    "azalmasi_beklenenlerin_veri_cercevesi"
   ],
   "metadata": {
    "collapsed": false,
    "pycharm": {
     "name": "#%%\n"
    }
   }
  },
  {
   "cell_type": "markdown",
   "source": [
    "Durum listesindeki 1 değer değişimin pozitif olduğunu yani arttığını gösterir. 0'lar değişimin negatif olduğunu, yani bir azalma olduğunu gösterir."
   ],
   "metadata": {
    "collapsed": false,
    "pycharm": {
     "name": "#%% md\n"
    }
   }
  },
  {
   "cell_type": "code",
   "execution_count": 51,
   "outputs": [],
   "source": [
    "# Fiyat değişim tutarının işaretine göre artış/azalış durumunu belirliyoruz. (Fiyat değişiminin her zaman sıfırdan farklı olduğunu varsayıyoruz. Çünkü bu durum çok düşük bir ihtimal.)\n",
    "durum_listesi = []\n",
    "for i in range(artmasi_beklenenlerin_veri_cercevesi.shape[0]):\n",
    "    if artmasi_beklenenlerin_veri_cercevesi.iloc[i][\"Fiyat Değişim Miktarı\"] > 0:\n",
    "        durum_listesi.append(1)\n",
    "    else:\n",
    "        durum_listesi.append(0)"
   ],
   "metadata": {
    "collapsed": false,
    "pycharm": {
     "name": "#%%\n"
    }
   }
  },
  {
   "cell_type": "code",
   "execution_count": 52,
   "outputs": [
    {
     "data": {
      "text/plain": "   Açılış Tarihi Kapanış Tarihi Açılış Fiyatı Kapanış Fiyatı  \\\n0     2020-01-11     2020-01-25       8198.86        8340.58   \n1     2020-02-10     2020-02-23      10151.72         9936.4   \n2     2020-03-10     2020-03-24       7929.87        6744.72   \n3     2020-04-09     2020-04-23       7360.26        7482.39   \n4     2020-05-08     2020-05-22        9986.3         9170.0   \n5     2020-06-06     2020-06-21       9621.17        9294.69   \n6     2020-07-06     2020-07-20       9069.41        9160.78   \n7     2020-08-04     2020-08-19      11219.68       11754.59   \n8     2020-09-03     2020-09-17      11388.54       10939.99   \n9     2020-10-03     2020-10-16       10570.4       11319.32   \n10    2020-11-01     2020-11-15       13791.0        15957.0   \n11    2020-12-01     2020-12-14      19695.87       19273.14   \n12    2020-12-31     2021-01-13      28875.55       37371.38   \n13    2021-01-29     2021-02-11      33368.18       47969.51   \n14    2021-02-28     2021-03-13      46103.67       61188.39   \n15    2021-03-29     2021-04-12      55777.65        59860.0   \n16    2021-04-28     2021-05-11      55011.97       56670.02   \n17    2021-05-27     2021-06-10      39241.92       36675.72   \n18    2021-06-25     2021-06-10      34663.08       36675.72   \n19    2021-07-25     2021-08-08      34261.51       43794.37   \n20    2021-08-23     2021-09-07      49239.22       46863.73   \n21    2021-09-22     2021-10-06      40734.09        55315.0   \n22    2021-10-21     2021-11-05       66001.4       60937.12   \n23    2021-11-20     2021-12-04       58057.1       49152.47   \n\n   Fiyat Değişim Miktarı  Durum  \n0                 141.72      1  \n1                -215.32      0  \n2               -1185.15      0  \n3                 122.13      1  \n4                 -816.3      0  \n5                -326.48      0  \n6                  91.37      1  \n7                 534.91      1  \n8                -448.55      0  \n9                 748.92      1  \n10                2166.0      1  \n11               -422.73      0  \n12               8495.83      1  \n13              14601.33      1  \n14              15084.72      1  \n15               4082.35      1  \n16               1658.05      1  \n17               -2566.2      0  \n18               2012.64      1  \n19               9532.86      1  \n20              -2375.49      0  \n21              14580.91      1  \n22              -5064.28      0  \n23              -8904.63      0  ",
      "text/html": "<div>\n<style scoped>\n    .dataframe tbody tr th:only-of-type {\n        vertical-align: middle;\n    }\n\n    .dataframe tbody tr th {\n        vertical-align: top;\n    }\n\n    .dataframe thead th {\n        text-align: right;\n    }\n</style>\n<table border=\"1\" class=\"dataframe\">\n  <thead>\n    <tr style=\"text-align: right;\">\n      <th></th>\n      <th>Açılış Tarihi</th>\n      <th>Kapanış Tarihi</th>\n      <th>Açılış Fiyatı</th>\n      <th>Kapanış Fiyatı</th>\n      <th>Fiyat Değişim Miktarı</th>\n      <th>Durum</th>\n    </tr>\n  </thead>\n  <tbody>\n    <tr>\n      <th>0</th>\n      <td>2020-01-11</td>\n      <td>2020-01-25</td>\n      <td>8198.86</td>\n      <td>8340.58</td>\n      <td>141.72</td>\n      <td>1</td>\n    </tr>\n    <tr>\n      <th>1</th>\n      <td>2020-02-10</td>\n      <td>2020-02-23</td>\n      <td>10151.72</td>\n      <td>9936.4</td>\n      <td>-215.32</td>\n      <td>0</td>\n    </tr>\n    <tr>\n      <th>2</th>\n      <td>2020-03-10</td>\n      <td>2020-03-24</td>\n      <td>7929.87</td>\n      <td>6744.72</td>\n      <td>-1185.15</td>\n      <td>0</td>\n    </tr>\n    <tr>\n      <th>3</th>\n      <td>2020-04-09</td>\n      <td>2020-04-23</td>\n      <td>7360.26</td>\n      <td>7482.39</td>\n      <td>122.13</td>\n      <td>1</td>\n    </tr>\n    <tr>\n      <th>4</th>\n      <td>2020-05-08</td>\n      <td>2020-05-22</td>\n      <td>9986.3</td>\n      <td>9170.0</td>\n      <td>-816.3</td>\n      <td>0</td>\n    </tr>\n    <tr>\n      <th>5</th>\n      <td>2020-06-06</td>\n      <td>2020-06-21</td>\n      <td>9621.17</td>\n      <td>9294.69</td>\n      <td>-326.48</td>\n      <td>0</td>\n    </tr>\n    <tr>\n      <th>6</th>\n      <td>2020-07-06</td>\n      <td>2020-07-20</td>\n      <td>9069.41</td>\n      <td>9160.78</td>\n      <td>91.37</td>\n      <td>1</td>\n    </tr>\n    <tr>\n      <th>7</th>\n      <td>2020-08-04</td>\n      <td>2020-08-19</td>\n      <td>11219.68</td>\n      <td>11754.59</td>\n      <td>534.91</td>\n      <td>1</td>\n    </tr>\n    <tr>\n      <th>8</th>\n      <td>2020-09-03</td>\n      <td>2020-09-17</td>\n      <td>11388.54</td>\n      <td>10939.99</td>\n      <td>-448.55</td>\n      <td>0</td>\n    </tr>\n    <tr>\n      <th>9</th>\n      <td>2020-10-03</td>\n      <td>2020-10-16</td>\n      <td>10570.4</td>\n      <td>11319.32</td>\n      <td>748.92</td>\n      <td>1</td>\n    </tr>\n    <tr>\n      <th>10</th>\n      <td>2020-11-01</td>\n      <td>2020-11-15</td>\n      <td>13791.0</td>\n      <td>15957.0</td>\n      <td>2166.0</td>\n      <td>1</td>\n    </tr>\n    <tr>\n      <th>11</th>\n      <td>2020-12-01</td>\n      <td>2020-12-14</td>\n      <td>19695.87</td>\n      <td>19273.14</td>\n      <td>-422.73</td>\n      <td>0</td>\n    </tr>\n    <tr>\n      <th>12</th>\n      <td>2020-12-31</td>\n      <td>2021-01-13</td>\n      <td>28875.55</td>\n      <td>37371.38</td>\n      <td>8495.83</td>\n      <td>1</td>\n    </tr>\n    <tr>\n      <th>13</th>\n      <td>2021-01-29</td>\n      <td>2021-02-11</td>\n      <td>33368.18</td>\n      <td>47969.51</td>\n      <td>14601.33</td>\n      <td>1</td>\n    </tr>\n    <tr>\n      <th>14</th>\n      <td>2021-02-28</td>\n      <td>2021-03-13</td>\n      <td>46103.67</td>\n      <td>61188.39</td>\n      <td>15084.72</td>\n      <td>1</td>\n    </tr>\n    <tr>\n      <th>15</th>\n      <td>2021-03-29</td>\n      <td>2021-04-12</td>\n      <td>55777.65</td>\n      <td>59860.0</td>\n      <td>4082.35</td>\n      <td>1</td>\n    </tr>\n    <tr>\n      <th>16</th>\n      <td>2021-04-28</td>\n      <td>2021-05-11</td>\n      <td>55011.97</td>\n      <td>56670.02</td>\n      <td>1658.05</td>\n      <td>1</td>\n    </tr>\n    <tr>\n      <th>17</th>\n      <td>2021-05-27</td>\n      <td>2021-06-10</td>\n      <td>39241.92</td>\n      <td>36675.72</td>\n      <td>-2566.2</td>\n      <td>0</td>\n    </tr>\n    <tr>\n      <th>18</th>\n      <td>2021-06-25</td>\n      <td>2021-06-10</td>\n      <td>34663.08</td>\n      <td>36675.72</td>\n      <td>2012.64</td>\n      <td>1</td>\n    </tr>\n    <tr>\n      <th>19</th>\n      <td>2021-07-25</td>\n      <td>2021-08-08</td>\n      <td>34261.51</td>\n      <td>43794.37</td>\n      <td>9532.86</td>\n      <td>1</td>\n    </tr>\n    <tr>\n      <th>20</th>\n      <td>2021-08-23</td>\n      <td>2021-09-07</td>\n      <td>49239.22</td>\n      <td>46863.73</td>\n      <td>-2375.49</td>\n      <td>0</td>\n    </tr>\n    <tr>\n      <th>21</th>\n      <td>2021-09-22</td>\n      <td>2021-10-06</td>\n      <td>40734.09</td>\n      <td>55315.0</td>\n      <td>14580.91</td>\n      <td>1</td>\n    </tr>\n    <tr>\n      <th>22</th>\n      <td>2021-10-21</td>\n      <td>2021-11-05</td>\n      <td>66001.4</td>\n      <td>60937.12</td>\n      <td>-5064.28</td>\n      <td>0</td>\n    </tr>\n    <tr>\n      <th>23</th>\n      <td>2021-11-20</td>\n      <td>2021-12-04</td>\n      <td>58057.1</td>\n      <td>49152.47</td>\n      <td>-8904.63</td>\n      <td>0</td>\n    </tr>\n  </tbody>\n</table>\n</div>"
     },
     "execution_count": 52,
     "metadata": {},
     "output_type": "execute_result"
    }
   ],
   "source": [
    "# Birinci grup ve durum listesini yan yana birleştirme işlemi.\n",
    "artmasi_beklenenlerin_veri_cercevesi = pd.concat([artmasi_beklenenlerin_veri_cercevesi, pd.DataFrame(durum_listesi)], axis=1, join='inner')\n",
    "artmasi_beklenenlerin_veri_cercevesi.columns=['Açılış Tarihi','Kapanış Tarihi','Açılış Fiyatı','Kapanış Fiyatı', 'Fiyat Değişim Miktarı', 'Durum']\n",
    "artmasi_beklenenlerin_veri_cercevesi"
   ],
   "metadata": {
    "collapsed": false,
    "pycharm": {
     "name": "#%%\n"
    }
   }
  },
  {
   "cell_type": "code",
   "execution_count": 53,
   "outputs": [],
   "source": [
    "# Fiyat değişim tutarının işaretine göre artış/azalış durumunu belirliyoruz. (Fiyat değişiminin her zaman sıfırdan farklı olduğunu varsayıyoruz. Çünkü bu durum çok düşük bir ihtimal.)\n",
    "durum_listesi = []\n",
    "for i in range(azalmasi_beklenenlerin_veri_cercevesi.shape[0]):\n",
    "    if azalmasi_beklenenlerin_veri_cercevesi.iloc[i][\"Fiyat Değişim Miktarı\"] > 0:\n",
    "        durum_listesi.append(1)\n",
    "    else:\n",
    "        durum_listesi.append(0)"
   ],
   "metadata": {
    "collapsed": false,
    "pycharm": {
     "name": "#%%\n"
    }
   }
  },
  {
   "cell_type": "code",
   "execution_count": 54,
   "outputs": [
    {
     "data": {
      "text/plain": "   Açılış Tarihi Kapanış Tarihi Açılış Fiyatı Kapanış Fiyatı  \\\n0     2020-01-26     2020-02-09       8340.01       10151.75   \n1     2020-02-24     2020-03-09        9936.4        7929.87   \n2     2020-03-25     2020-04-08       6744.69        7361.28   \n3     2020-04-24     2020-05-07       7483.96         9986.4   \n4     2020-05-23     2020-06-05        9170.0        9621.16   \n5     2020-06-22     2020-07-05       9294.69        9069.41   \n6     2020-07-21     2020-08-03       9160.78       11219.81   \n7     2020-08-20     2020-09-02      11754.38       11388.54   \n8     2020-09-18     2020-10-02       10940.0        10570.4   \n9     2020-10-17     2020-10-31      11319.24        13791.0   \n10    2020-11-16     2020-11-30       15957.0       19695.87   \n11    2020-12-15     2020-12-30      19273.69       28875.54   \n12    2021-01-14     2021-01-28      37371.38       33364.86   \n13    2021-02-12     2021-02-27      47968.66       46106.43   \n14    2021-03-14     2021-03-28      61188.38       55777.63   \n15    2021-04-13     2021-04-27      59860.01       55011.97   \n16    2021-05-12     2021-05-26      56670.02       39241.91   \n17    2021-06-11     2021-06-24      36677.83       34663.09   \n18    2021-06-11     2021-07-24      36677.83       34258.14   \n19    2021-08-09     2021-08-22      43794.36       49239.22   \n20    2021-09-08     2021-09-21      46868.57       40734.38   \n21    2021-10-07     2021-10-20       55315.0       66001.41   \n22    2021-11-06     2021-11-19      60940.18       58052.24   \n23    2021-12-05     2021-12-19      49152.46       46681.23   \n\n   Fiyat Değişim Miktarı  Durum  \n0                1811.74      1  \n1               -2006.53      0  \n2                 616.59      1  \n3                2502.44      1  \n4                 451.16      1  \n5                -225.28      0  \n6                2059.03      1  \n7                -365.84      0  \n8                 -369.6      0  \n9                2471.76      1  \n10               3738.87      1  \n11               9601.85      1  \n12              -4006.52      0  \n13              -1862.23      0  \n14              -5410.75      0  \n15              -4848.04      0  \n16             -17428.11      0  \n17              -2014.74      0  \n18              -2419.69      0  \n19               5444.86      1  \n20              -6134.19      0  \n21              10686.41      1  \n22              -2887.94      0  \n23              -2471.23      0  ",
      "text/html": "<div>\n<style scoped>\n    .dataframe tbody tr th:only-of-type {\n        vertical-align: middle;\n    }\n\n    .dataframe tbody tr th {\n        vertical-align: top;\n    }\n\n    .dataframe thead th {\n        text-align: right;\n    }\n</style>\n<table border=\"1\" class=\"dataframe\">\n  <thead>\n    <tr style=\"text-align: right;\">\n      <th></th>\n      <th>Açılış Tarihi</th>\n      <th>Kapanış Tarihi</th>\n      <th>Açılış Fiyatı</th>\n      <th>Kapanış Fiyatı</th>\n      <th>Fiyat Değişim Miktarı</th>\n      <th>Durum</th>\n    </tr>\n  </thead>\n  <tbody>\n    <tr>\n      <th>0</th>\n      <td>2020-01-26</td>\n      <td>2020-02-09</td>\n      <td>8340.01</td>\n      <td>10151.75</td>\n      <td>1811.74</td>\n      <td>1</td>\n    </tr>\n    <tr>\n      <th>1</th>\n      <td>2020-02-24</td>\n      <td>2020-03-09</td>\n      <td>9936.4</td>\n      <td>7929.87</td>\n      <td>-2006.53</td>\n      <td>0</td>\n    </tr>\n    <tr>\n      <th>2</th>\n      <td>2020-03-25</td>\n      <td>2020-04-08</td>\n      <td>6744.69</td>\n      <td>7361.28</td>\n      <td>616.59</td>\n      <td>1</td>\n    </tr>\n    <tr>\n      <th>3</th>\n      <td>2020-04-24</td>\n      <td>2020-05-07</td>\n      <td>7483.96</td>\n      <td>9986.4</td>\n      <td>2502.44</td>\n      <td>1</td>\n    </tr>\n    <tr>\n      <th>4</th>\n      <td>2020-05-23</td>\n      <td>2020-06-05</td>\n      <td>9170.0</td>\n      <td>9621.16</td>\n      <td>451.16</td>\n      <td>1</td>\n    </tr>\n    <tr>\n      <th>5</th>\n      <td>2020-06-22</td>\n      <td>2020-07-05</td>\n      <td>9294.69</td>\n      <td>9069.41</td>\n      <td>-225.28</td>\n      <td>0</td>\n    </tr>\n    <tr>\n      <th>6</th>\n      <td>2020-07-21</td>\n      <td>2020-08-03</td>\n      <td>9160.78</td>\n      <td>11219.81</td>\n      <td>2059.03</td>\n      <td>1</td>\n    </tr>\n    <tr>\n      <th>7</th>\n      <td>2020-08-20</td>\n      <td>2020-09-02</td>\n      <td>11754.38</td>\n      <td>11388.54</td>\n      <td>-365.84</td>\n      <td>0</td>\n    </tr>\n    <tr>\n      <th>8</th>\n      <td>2020-09-18</td>\n      <td>2020-10-02</td>\n      <td>10940.0</td>\n      <td>10570.4</td>\n      <td>-369.6</td>\n      <td>0</td>\n    </tr>\n    <tr>\n      <th>9</th>\n      <td>2020-10-17</td>\n      <td>2020-10-31</td>\n      <td>11319.24</td>\n      <td>13791.0</td>\n      <td>2471.76</td>\n      <td>1</td>\n    </tr>\n    <tr>\n      <th>10</th>\n      <td>2020-11-16</td>\n      <td>2020-11-30</td>\n      <td>15957.0</td>\n      <td>19695.87</td>\n      <td>3738.87</td>\n      <td>1</td>\n    </tr>\n    <tr>\n      <th>11</th>\n      <td>2020-12-15</td>\n      <td>2020-12-30</td>\n      <td>19273.69</td>\n      <td>28875.54</td>\n      <td>9601.85</td>\n      <td>1</td>\n    </tr>\n    <tr>\n      <th>12</th>\n      <td>2021-01-14</td>\n      <td>2021-01-28</td>\n      <td>37371.38</td>\n      <td>33364.86</td>\n      <td>-4006.52</td>\n      <td>0</td>\n    </tr>\n    <tr>\n      <th>13</th>\n      <td>2021-02-12</td>\n      <td>2021-02-27</td>\n      <td>47968.66</td>\n      <td>46106.43</td>\n      <td>-1862.23</td>\n      <td>0</td>\n    </tr>\n    <tr>\n      <th>14</th>\n      <td>2021-03-14</td>\n      <td>2021-03-28</td>\n      <td>61188.38</td>\n      <td>55777.63</td>\n      <td>-5410.75</td>\n      <td>0</td>\n    </tr>\n    <tr>\n      <th>15</th>\n      <td>2021-04-13</td>\n      <td>2021-04-27</td>\n      <td>59860.01</td>\n      <td>55011.97</td>\n      <td>-4848.04</td>\n      <td>0</td>\n    </tr>\n    <tr>\n      <th>16</th>\n      <td>2021-05-12</td>\n      <td>2021-05-26</td>\n      <td>56670.02</td>\n      <td>39241.91</td>\n      <td>-17428.11</td>\n      <td>0</td>\n    </tr>\n    <tr>\n      <th>17</th>\n      <td>2021-06-11</td>\n      <td>2021-06-24</td>\n      <td>36677.83</td>\n      <td>34663.09</td>\n      <td>-2014.74</td>\n      <td>0</td>\n    </tr>\n    <tr>\n      <th>18</th>\n      <td>2021-06-11</td>\n      <td>2021-07-24</td>\n      <td>36677.83</td>\n      <td>34258.14</td>\n      <td>-2419.69</td>\n      <td>0</td>\n    </tr>\n    <tr>\n      <th>19</th>\n      <td>2021-08-09</td>\n      <td>2021-08-22</td>\n      <td>43794.36</td>\n      <td>49239.22</td>\n      <td>5444.86</td>\n      <td>1</td>\n    </tr>\n    <tr>\n      <th>20</th>\n      <td>2021-09-08</td>\n      <td>2021-09-21</td>\n      <td>46868.57</td>\n      <td>40734.38</td>\n      <td>-6134.19</td>\n      <td>0</td>\n    </tr>\n    <tr>\n      <th>21</th>\n      <td>2021-10-07</td>\n      <td>2021-10-20</td>\n      <td>55315.0</td>\n      <td>66001.41</td>\n      <td>10686.41</td>\n      <td>1</td>\n    </tr>\n    <tr>\n      <th>22</th>\n      <td>2021-11-06</td>\n      <td>2021-11-19</td>\n      <td>60940.18</td>\n      <td>58052.24</td>\n      <td>-2887.94</td>\n      <td>0</td>\n    </tr>\n    <tr>\n      <th>23</th>\n      <td>2021-12-05</td>\n      <td>2021-12-19</td>\n      <td>49152.46</td>\n      <td>46681.23</td>\n      <td>-2471.23</td>\n      <td>0</td>\n    </tr>\n  </tbody>\n</table>\n</div>"
     },
     "execution_count": 54,
     "metadata": {},
     "output_type": "execute_result"
    }
   ],
   "source": [
    "# İkinci grup ve durum listesini yan yana birleştirme işlemi.\n",
    "azalmasi_beklenenlerin_veri_cercevesi = pd.concat([azalmasi_beklenenlerin_veri_cercevesi, pd.DataFrame(durum_listesi)], axis=1, join='inner')\n",
    "azalmasi_beklenenlerin_veri_cercevesi.columns=['Açılış Tarihi','Kapanış Tarihi','Açılış Fiyatı','Kapanış Fiyatı', 'Fiyat Değişim Miktarı', 'Durum']\n",
    "azalmasi_beklenenlerin_veri_cercevesi"
   ],
   "metadata": {
    "collapsed": false,
    "pycharm": {
     "name": "#%%\n"
    }
   }
  },
  {
   "cell_type": "markdown",
   "source": [
    "Yukarıdaki 2 veri çerçevesini kullanarak bir veri çerçevesi oluşturmalı ve Ay evrelerini kategorize etmek için başka bir sütun eklemeliyiz.\n",
    "\n",
    "Ay evresi 0: azalması bekleniyor\n",
    "Ay evresi 1: artması bekleniyor\n",
    "\n",
    "Tüm verileri aynı veri çerçevesinde görmek için 2 veri çerçevesinin birleştirilmesi"
   ],
   "metadata": {
    "collapsed": false,
    "pycharm": {
     "name": "#%% md\n"
    }
   }
  },
  {
   "cell_type": "code",
   "execution_count": 55,
   "outputs": [
    {
     "data": {
      "text/plain": "   Açılış Tarihi Kapanış Tarihi  Durum  Ay evresi\n0     2020-01-11     2020-01-25      1          1\n1     2020-02-10     2020-02-23      0          1\n2     2020-03-10     2020-03-24      0          1\n3     2020-04-09     2020-04-23      1          1\n4     2020-05-08     2020-05-22      0          1\n5     2020-06-06     2020-06-21      0          1\n6     2020-07-06     2020-07-20      1          1\n7     2020-08-04     2020-08-19      1          1\n8     2020-09-03     2020-09-17      0          1\n9     2020-10-03     2020-10-16      1          1\n10    2020-11-01     2020-11-15      1          1\n11    2020-12-01     2020-12-14      0          1\n12    2020-12-31     2021-01-13      1          1\n13    2021-01-29     2021-02-11      1          1\n14    2021-02-28     2021-03-13      1          1\n15    2021-03-29     2021-04-12      1          1\n16    2021-04-28     2021-05-11      1          1\n17    2021-05-27     2021-06-10      0          1\n18    2021-06-25     2021-06-10      1          1\n19    2021-07-25     2021-08-08      1          1\n20    2021-08-23     2021-09-07      0          1\n21    2021-09-22     2021-10-06      1          1\n22    2021-10-21     2021-11-05      0          1\n23    2021-11-20     2021-12-04      0          1\n24    2020-01-26     2020-02-09      1          0\n25    2020-02-24     2020-03-09      0          0\n26    2020-03-25     2020-04-08      1          0\n27    2020-04-24     2020-05-07      1          0\n28    2020-05-23     2020-06-05      1          0\n29    2020-06-22     2020-07-05      0          0\n30    2020-07-21     2020-08-03      1          0\n31    2020-08-20     2020-09-02      0          0\n32    2020-09-18     2020-10-02      0          0\n33    2020-10-17     2020-10-31      1          0\n34    2020-11-16     2020-11-30      1          0\n35    2020-12-15     2020-12-30      1          0\n36    2021-01-14     2021-01-28      0          0\n37    2021-02-12     2021-02-27      0          0\n38    2021-03-14     2021-03-28      0          0\n39    2021-04-13     2021-04-27      0          0\n40    2021-05-12     2021-05-26      0          0\n41    2021-06-11     2021-06-24      0          0\n42    2021-06-11     2021-07-24      0          0\n43    2021-08-09     2021-08-22      1          0\n44    2021-09-08     2021-09-21      0          0\n45    2021-10-07     2021-10-20      1          0\n46    2021-11-06     2021-11-19      0          0\n47    2021-12-05     2021-12-19      0          0",
      "text/html": "<div>\n<style scoped>\n    .dataframe tbody tr th:only-of-type {\n        vertical-align: middle;\n    }\n\n    .dataframe tbody tr th {\n        vertical-align: top;\n    }\n\n    .dataframe thead th {\n        text-align: right;\n    }\n</style>\n<table border=\"1\" class=\"dataframe\">\n  <thead>\n    <tr style=\"text-align: right;\">\n      <th></th>\n      <th>Açılış Tarihi</th>\n      <th>Kapanış Tarihi</th>\n      <th>Durum</th>\n      <th>Ay evresi</th>\n    </tr>\n  </thead>\n  <tbody>\n    <tr>\n      <th>0</th>\n      <td>2020-01-11</td>\n      <td>2020-01-25</td>\n      <td>1</td>\n      <td>1</td>\n    </tr>\n    <tr>\n      <th>1</th>\n      <td>2020-02-10</td>\n      <td>2020-02-23</td>\n      <td>0</td>\n      <td>1</td>\n    </tr>\n    <tr>\n      <th>2</th>\n      <td>2020-03-10</td>\n      <td>2020-03-24</td>\n      <td>0</td>\n      <td>1</td>\n    </tr>\n    <tr>\n      <th>3</th>\n      <td>2020-04-09</td>\n      <td>2020-04-23</td>\n      <td>1</td>\n      <td>1</td>\n    </tr>\n    <tr>\n      <th>4</th>\n      <td>2020-05-08</td>\n      <td>2020-05-22</td>\n      <td>0</td>\n      <td>1</td>\n    </tr>\n    <tr>\n      <th>5</th>\n      <td>2020-06-06</td>\n      <td>2020-06-21</td>\n      <td>0</td>\n      <td>1</td>\n    </tr>\n    <tr>\n      <th>6</th>\n      <td>2020-07-06</td>\n      <td>2020-07-20</td>\n      <td>1</td>\n      <td>1</td>\n    </tr>\n    <tr>\n      <th>7</th>\n      <td>2020-08-04</td>\n      <td>2020-08-19</td>\n      <td>1</td>\n      <td>1</td>\n    </tr>\n    <tr>\n      <th>8</th>\n      <td>2020-09-03</td>\n      <td>2020-09-17</td>\n      <td>0</td>\n      <td>1</td>\n    </tr>\n    <tr>\n      <th>9</th>\n      <td>2020-10-03</td>\n      <td>2020-10-16</td>\n      <td>1</td>\n      <td>1</td>\n    </tr>\n    <tr>\n      <th>10</th>\n      <td>2020-11-01</td>\n      <td>2020-11-15</td>\n      <td>1</td>\n      <td>1</td>\n    </tr>\n    <tr>\n      <th>11</th>\n      <td>2020-12-01</td>\n      <td>2020-12-14</td>\n      <td>0</td>\n      <td>1</td>\n    </tr>\n    <tr>\n      <th>12</th>\n      <td>2020-12-31</td>\n      <td>2021-01-13</td>\n      <td>1</td>\n      <td>1</td>\n    </tr>\n    <tr>\n      <th>13</th>\n      <td>2021-01-29</td>\n      <td>2021-02-11</td>\n      <td>1</td>\n      <td>1</td>\n    </tr>\n    <tr>\n      <th>14</th>\n      <td>2021-02-28</td>\n      <td>2021-03-13</td>\n      <td>1</td>\n      <td>1</td>\n    </tr>\n    <tr>\n      <th>15</th>\n      <td>2021-03-29</td>\n      <td>2021-04-12</td>\n      <td>1</td>\n      <td>1</td>\n    </tr>\n    <tr>\n      <th>16</th>\n      <td>2021-04-28</td>\n      <td>2021-05-11</td>\n      <td>1</td>\n      <td>1</td>\n    </tr>\n    <tr>\n      <th>17</th>\n      <td>2021-05-27</td>\n      <td>2021-06-10</td>\n      <td>0</td>\n      <td>1</td>\n    </tr>\n    <tr>\n      <th>18</th>\n      <td>2021-06-25</td>\n      <td>2021-06-10</td>\n      <td>1</td>\n      <td>1</td>\n    </tr>\n    <tr>\n      <th>19</th>\n      <td>2021-07-25</td>\n      <td>2021-08-08</td>\n      <td>1</td>\n      <td>1</td>\n    </tr>\n    <tr>\n      <th>20</th>\n      <td>2021-08-23</td>\n      <td>2021-09-07</td>\n      <td>0</td>\n      <td>1</td>\n    </tr>\n    <tr>\n      <th>21</th>\n      <td>2021-09-22</td>\n      <td>2021-10-06</td>\n      <td>1</td>\n      <td>1</td>\n    </tr>\n    <tr>\n      <th>22</th>\n      <td>2021-10-21</td>\n      <td>2021-11-05</td>\n      <td>0</td>\n      <td>1</td>\n    </tr>\n    <tr>\n      <th>23</th>\n      <td>2021-11-20</td>\n      <td>2021-12-04</td>\n      <td>0</td>\n      <td>1</td>\n    </tr>\n    <tr>\n      <th>24</th>\n      <td>2020-01-26</td>\n      <td>2020-02-09</td>\n      <td>1</td>\n      <td>0</td>\n    </tr>\n    <tr>\n      <th>25</th>\n      <td>2020-02-24</td>\n      <td>2020-03-09</td>\n      <td>0</td>\n      <td>0</td>\n    </tr>\n    <tr>\n      <th>26</th>\n      <td>2020-03-25</td>\n      <td>2020-04-08</td>\n      <td>1</td>\n      <td>0</td>\n    </tr>\n    <tr>\n      <th>27</th>\n      <td>2020-04-24</td>\n      <td>2020-05-07</td>\n      <td>1</td>\n      <td>0</td>\n    </tr>\n    <tr>\n      <th>28</th>\n      <td>2020-05-23</td>\n      <td>2020-06-05</td>\n      <td>1</td>\n      <td>0</td>\n    </tr>\n    <tr>\n      <th>29</th>\n      <td>2020-06-22</td>\n      <td>2020-07-05</td>\n      <td>0</td>\n      <td>0</td>\n    </tr>\n    <tr>\n      <th>30</th>\n      <td>2020-07-21</td>\n      <td>2020-08-03</td>\n      <td>1</td>\n      <td>0</td>\n    </tr>\n    <tr>\n      <th>31</th>\n      <td>2020-08-20</td>\n      <td>2020-09-02</td>\n      <td>0</td>\n      <td>0</td>\n    </tr>\n    <tr>\n      <th>32</th>\n      <td>2020-09-18</td>\n      <td>2020-10-02</td>\n      <td>0</td>\n      <td>0</td>\n    </tr>\n    <tr>\n      <th>33</th>\n      <td>2020-10-17</td>\n      <td>2020-10-31</td>\n      <td>1</td>\n      <td>0</td>\n    </tr>\n    <tr>\n      <th>34</th>\n      <td>2020-11-16</td>\n      <td>2020-11-30</td>\n      <td>1</td>\n      <td>0</td>\n    </tr>\n    <tr>\n      <th>35</th>\n      <td>2020-12-15</td>\n      <td>2020-12-30</td>\n      <td>1</td>\n      <td>0</td>\n    </tr>\n    <tr>\n      <th>36</th>\n      <td>2021-01-14</td>\n      <td>2021-01-28</td>\n      <td>0</td>\n      <td>0</td>\n    </tr>\n    <tr>\n      <th>37</th>\n      <td>2021-02-12</td>\n      <td>2021-02-27</td>\n      <td>0</td>\n      <td>0</td>\n    </tr>\n    <tr>\n      <th>38</th>\n      <td>2021-03-14</td>\n      <td>2021-03-28</td>\n      <td>0</td>\n      <td>0</td>\n    </tr>\n    <tr>\n      <th>39</th>\n      <td>2021-04-13</td>\n      <td>2021-04-27</td>\n      <td>0</td>\n      <td>0</td>\n    </tr>\n    <tr>\n      <th>40</th>\n      <td>2021-05-12</td>\n      <td>2021-05-26</td>\n      <td>0</td>\n      <td>0</td>\n    </tr>\n    <tr>\n      <th>41</th>\n      <td>2021-06-11</td>\n      <td>2021-06-24</td>\n      <td>0</td>\n      <td>0</td>\n    </tr>\n    <tr>\n      <th>42</th>\n      <td>2021-06-11</td>\n      <td>2021-07-24</td>\n      <td>0</td>\n      <td>0</td>\n    </tr>\n    <tr>\n      <th>43</th>\n      <td>2021-08-09</td>\n      <td>2021-08-22</td>\n      <td>1</td>\n      <td>0</td>\n    </tr>\n    <tr>\n      <th>44</th>\n      <td>2021-09-08</td>\n      <td>2021-09-21</td>\n      <td>0</td>\n      <td>0</td>\n    </tr>\n    <tr>\n      <th>45</th>\n      <td>2021-10-07</td>\n      <td>2021-10-20</td>\n      <td>1</td>\n      <td>0</td>\n    </tr>\n    <tr>\n      <th>46</th>\n      <td>2021-11-06</td>\n      <td>2021-11-19</td>\n      <td>0</td>\n      <td>0</td>\n    </tr>\n    <tr>\n      <th>47</th>\n      <td>2021-12-05</td>\n      <td>2021-12-19</td>\n      <td>0</td>\n      <td>0</td>\n    </tr>\n  </tbody>\n</table>\n</div>"
     },
     "execution_count": 55,
     "metadata": {},
     "output_type": "execute_result"
    }
   ],
   "source": [
    "azalmasi_beklenenlerin_veri_cercevesi['Ay evresi'] = 0\n",
    "artmasi_beklenenlerin_veri_cercevesi['Ay evresi'] = 1\n",
    "\n",
    "\n",
    "tum_veri_cercevesi = pd.concat([artmasi_beklenenlerin_veri_cercevesi, azalmasi_beklenenlerin_veri_cercevesi])\n",
    "tum_veri_cercevesi.reset_index(inplace=True)\n",
    "tum_veri_cercevesi.drop(columns=['index', 'Açılış Fiyatı', 'Kapanış Fiyatı', 'Fiyat Değişim Miktarı'], inplace=True)\n",
    "\n",
    "tum_veri_cercevesi"
   ],
   "metadata": {
    "collapsed": false,
    "pycharm": {
     "name": "#%%\n"
    }
   }
  },
  {
   "cell_type": "markdown",
   "source": [
    "Şimdi aynı tablodaki tüm verileri net bir şekilde görebilmek için kontenjans tablosunu oluşturuyoruz."
   ],
   "metadata": {
    "collapsed": false,
    "pycharm": {
     "name": "#%% md\n"
    }
   }
  },
  {
   "cell_type": "code",
   "execution_count": 56,
   "outputs": [
    {
     "data": {
      "text/plain": "Ay evresi   0   1  All\nDurum                 \n0          14  10   24\n1          10  14   24\nAll        24  24   48",
      "text/html": "<div>\n<style scoped>\n    .dataframe tbody tr th:only-of-type {\n        vertical-align: middle;\n    }\n\n    .dataframe tbody tr th {\n        vertical-align: top;\n    }\n\n    .dataframe thead th {\n        text-align: right;\n    }\n</style>\n<table border=\"1\" class=\"dataframe\">\n  <thead>\n    <tr style=\"text-align: right;\">\n      <th>Ay evresi</th>\n      <th>0</th>\n      <th>1</th>\n      <th>All</th>\n    </tr>\n    <tr>\n      <th>Durum</th>\n      <th></th>\n      <th></th>\n      <th></th>\n    </tr>\n  </thead>\n  <tbody>\n    <tr>\n      <th>0</th>\n      <td>14</td>\n      <td>10</td>\n      <td>24</td>\n    </tr>\n    <tr>\n      <th>1</th>\n      <td>10</td>\n      <td>14</td>\n      <td>24</td>\n    </tr>\n    <tr>\n      <th>All</th>\n      <td>24</td>\n      <td>24</td>\n      <td>48</td>\n    </tr>\n  </tbody>\n</table>\n</div>"
     },
     "execution_count": 56,
     "metadata": {},
     "output_type": "execute_result"
    }
   ],
   "source": [
    "kontenjans = pd.crosstab(tum_veri_cercevesi['Durum'], tum_veri_cercevesi['Ay evresi'], margins=True)\n",
    "kontenjans"
   ],
   "metadata": {
    "collapsed": false,
    "pycharm": {
     "name": "#%%\n"
    }
   }
  },
  {
   "cell_type": "markdown",
   "source": [
    "Ayın evreleri ile bitcoin arasında bir ilişki olmadığını görebiliriz ancak bunu McNemar'ın testini kullanarak kanıtlamalıyız.\n",
    "\n",
    "McNemar Testi: Bu, eşleştirilmiş nominal veriler için parametrik olmayan bir testtir. Bu test, eşleştirilmiş veriler için orantılı olarak değişimi bulmak istediğimizde kullanılır. Bu test aynı zamanda McNemar'ın Ki-Kare testi olarak da bilinir. Bunun nedeni, test istatistiğinin ki-kare dağılımına sahip olmasıdır."
   ],
   "metadata": {
    "collapsed": false,
    "pycharm": {
     "name": "#%% md\n"
    }
   }
  },
  {
   "cell_type": "markdown",
   "source": [
    "Bunu uygulamak için 2 şeyi varsaymalıyız:\n",
    "\n",
    "Boş hipotez: Ayın evreleri ile bitcoin fiyatını yükseltmek arasında bir ilişki yoktur.\n",
    "\n",
    "Alternatif hipotez: Ayın evreleri ile bitcoin fiyatını yükseltmek arasında bir korelasyon var."
   ],
   "metadata": {
    "collapsed": false,
    "pycharm": {
     "name": "#%% md\n"
    }
   }
  },
  {
   "cell_type": "markdown",
   "source": [
    "Syntax:\n",
    "\n",
    "mcnemar(table, exact=True, correction=True)\n",
    "\n",
    "parametreler:\n",
    "\n",
    "table: Kare olasılık tablosunu temsil eder\n",
    "exact = Doğru: Binom dağılımı kullanılacaktır. kesin = Yanlış: Ki-Kare dağılımı kullanılacak\n",
    "correction = Doğru: Daha sonra süreklilik düzeltmesi kullanılacaktır. Kural olarak. bu düzeltme             uygulanacaktır tablodaki herhangi bir hücre sayısı 4'ten fazla değildir\n",
    "\n",
    "Returnler:\n",
    "\n",
    "istatistik: float veya int, dizi Kesin yanlışsa, test istatistiği ki-kare istatistiğidir. Tam binom dağılımı kullanılıyorsa, bu, min(n1, n2)'yi içerir; burada n1, n2 bir örnekte sıfır, diğer örnekte bir olan durumlardır.\n",
    "\n",
    "p değeri: eşit marjinal dağılımların boş hipotezinin kayan nokta veya dizi p değeri."
   ],
   "metadata": {
    "collapsed": false,
    "pycharm": {
     "name": "#%% md\n"
    }
   }
  },
  {
   "cell_type": "markdown",
   "source": [
    "Ki-Kare İstatistiği nedir?\n",
    "\n",
    "Ki kare testinde kullanılan ki-kare istatistiğinin formülü:\n",
    "\n",
    "X^2 = toplam((gözlemlenen - beklenen)^2 / beklenen)\n",
    "\n",
    "Gözlemlenen: Gözlenen gerçek değerlerimiz.\n",
    "Beklenen: Gerçek değer yerine beklenen değer"
   ],
   "metadata": {
    "collapsed": false,
    "pycharm": {
     "name": "#%% md\n"
    }
   }
  },
  {
   "cell_type": "markdown",
   "source": [
    "p-değeri: Boş hipotez anlamlılık testinde, p-değeri, sıfır hipotezinin doğru olduğu varsayımı altında, en azından gerçekte gözlemlenen sonuç kadar aşırı test sonuçları elde etme olasılığıdır. Çok küçük bir p-değeri, sıfır hipotezi altında böyle aşırı gözlemlenen bir sonucun pek olası olmayacağı anlamına gelir."
   ],
   "metadata": {
    "collapsed": false,
    "pycharm": {
     "name": "#%% md\n"
    }
   }
  },
  {
   "cell_type": "markdown",
   "source": [
    "Serbestlik dereceleri (genellikle df veya DOF olarak kısaltılır): Serbestlik dereceleri, bir sistemin bağımsız değişkenlerinin veya parametrelerinin sayısını ifade eder."
   ],
   "metadata": {
    "collapsed": false,
    "pycharm": {
     "name": "#%% md\n"
    }
   }
  },
  {
   "cell_type": "markdown",
   "source": [
    "Ki-Kare Dağılımı: Olasılık teorisi ve istatistikte, k serbestlik dereceli ki-kare dağılım (ayrıca ki-kare veya χ2-dağılımı), k bağımsız standart normal rastgele                          değişkenin karelerinin toplamının dağılımıdır.\n"
   ],
   "metadata": {
    "collapsed": false,
    "pycharm": {
     "name": "#%% md\n"
    }
   }
  },
  {
   "cell_type": "markdown",
   "source": [
    "Binom Dağılımı: Olasılık teorisi ve istatistikte, n ve p parametreleriyle binom dağılımı, her biri bir evet-hayır sorusu soran ve her biri kendi Boolean- değerli sonuç: başarı (p olasılığı ile) veya başarısızlık (q = 1 - p olasılığı ile)."
   ],
   "metadata": {
    "collapsed": false,
    "pycharm": {
     "name": "#%% md\n"
    }
   }
  },
  {
   "cell_type": "code",
   "execution_count": 57,
   "outputs": [
    {
     "name": "stdout",
     "output_type": "stream",
     "text": [
      "pvalue      0.8230632737581214\n",
      "statistic   0.05\n"
     ]
    }
   ],
   "source": [
    "from statsmodels.stats.contingency_tables import mcnemar\n",
    "\n",
    "print(mcnemar(kontenjans, exact=False, correction=True))"
   ],
   "metadata": {
    "collapsed": false,
    "pycharm": {
     "name": "#%%\n"
    }
   }
  },
  {
   "cell_type": "code",
   "execution_count": 58,
   "outputs": [
    {
     "name": "stdout",
     "output_type": "stream",
     "text": [
      "pvalue      1.0\n",
      "statistic   0.0\n"
     ]
    }
   ],
   "source": [
    "print(mcnemar(kontenjans, exact=False, correction=False))"
   ],
   "metadata": {
    "collapsed": false,
    "pycharm": {
     "name": "#%%\n"
    }
   }
  },
  {
   "cell_type": "markdown",
   "source": [],
   "metadata": {
    "collapsed": false,
    "pycharm": {
     "name": "#%% md\n"
    }
   }
  },
  {
   "cell_type": "markdown",
   "source": [
    "### 6- Sonuç <a class=\"anchor\" id=\"sonuc\"></a>\n",
    "\n",
    "Her iki durumda da süreklilik düzeltmesini uygulasak da uygulamasak da testin p değeri 0,05'ten küçük değildir. Bu, her iki durumda da boş hipotezi reddedemeyeceğimiz ve ay evreleri ile bitcoinin birbiriyle ilişkili olmadığı sonucuna varabileceğimiz anlamına gelir."
   ],
   "metadata": {
    "collapsed": false,
    "pycharm": {
     "name": "#%% md\n"
    }
   }
  },
  {
   "cell_type": "markdown",
   "source": [
    "### 7- REFERANSLAR <a class=\"anchor\" id=\"referanslar\"></a>\n",
    "\n",
    "[Ay evreleri](https://www.timeanddate.com/moon/phases/)\n",
    "[Hipotez testi-Python 1](https://towardsdatascience.com/hypothesis-testing-in-machine-learning-using-python-a0dc89e169ce)\n",
    "[Hipotez testi-Python 2](https://www.geeksforgeeks.org/how-to-perform-mcnemars-test-in-python/)\n",
    "[McNemar Test](https://www.statisticshowto.com/mcnemar-test/#:~:text=The%20McNemar%20test%20is%20a,is%20paired%20with%20a%20control)\n",
    "[Hipotez testleri seçimi](https://acikders.ankara.edu.tr/pluginfile.php/30758/mod_resource/content/0/6_Uygun%20Hipotez%20Testinin%20Seçimi.pdf)\n",
    "[Kİ-KARE testi 1](https://libguides.library.kent.edu/spss/chisquare)\n",
    "[Kİ-KARE testi 2](https://towardsdatascience.com/chi-square-test-for-independence-in-python-with-examples-from-the-ibm-hr-analytics-dataset-97b9ec9bb80a)"
   ],
   "metadata": {
    "collapsed": false,
    "pycharm": {
     "name": "#%% md\n"
    }
   }
  },
  {
   "cell_type": "markdown",
   "source": [
    "**Yasal Uyarı!** <font color='grey'>Bu defter Uğurcan ERDOĞAN-Alperen Berk IŞILDAR tarafından *BBM469 - Veri Yoğunluklu Uygulamalar Laboratuvarı* sınıfı için bir dönem projesi olarak hazırlanmıştır. Not defteri yalnızca eğitim amaçlı kullanılabilir. Öğrenci çalışması olduğu için sağlanan içeriğin doğruluğunun garantisi yoktur.\n",
    "\n",
    "Herhangi bir telif hakkı ihlali olduğunu düşünüyorsanız lütfen bize [bildirin](https://forms.gle/BNNRB2kR8ZHVEREq8).\n",
    "</font>"
   ],
   "metadata": {
    "collapsed": false,
    "pycharm": {
     "name": "#%% md\n"
    }
   }
  }
 ],
 "metadata": {
  "kernelspec": {
   "display_name": "Python 3",
   "language": "python",
   "name": "python3"
  },
  "language_info": {
   "codemirror_mode": {
    "name": "ipython",
    "version": 2
   },
   "file_extension": ".py",
   "mimetype": "text/x-python",
   "name": "python",
   "nbconvert_exporter": "python",
   "pygments_lexer": "ipython2",
   "version": "2.7.6"
  }
 },
 "nbformat": 4,
 "nbformat_minor": 0
}